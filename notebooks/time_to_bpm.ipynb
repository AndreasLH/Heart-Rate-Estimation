{
 "cells": [
  {
   "cell_type": "code",
   "execution_count": 1,
   "metadata": {
    "id": "nFP37oIXuKQN"
   },
   "outputs": [],
   "source": [
    "import pyVHR as vhr\n",
    "import numpy as np\n",
    "import matplotlib.pyplot as plt\n",
    "import pandas as pd\n",
    "import os"
   ]
  },
  {
   "cell_type": "code",
   "execution_count": 2,
   "metadata": {},
   "outputs": [
    {
     "data": {
      "text/plain": [
       "['id1', 'id2', 'id3', 'id4', 'id5', 'id6']"
      ]
     },
     "execution_count": 2,
     "metadata": {},
     "output_type": "execute_result"
    }
   ],
   "source": [
    "video_dirs = os.listdir('../cpi/')\n",
    "video_dirs"
   ]
  },
  {
   "cell_type": "code",
   "execution_count": 7,
   "metadata": {},
   "outputs": [
    {
     "name": "stdout",
     "output_type": "stream",
     "text": [
      "0 ../cpi/id1\\alex_gym\\cv_camera_sensor_stream_handler.mp4\n",
      "1 ../cpi/id1\\alex_resting\\cv_camera_sensor_stream_handler.mp4\n",
      "2 ../cpi/id1\\alex_rotation\\cv_camera_sensor_stream_handler.mp4\n",
      "3 ../cpi/id1\\alex_talk\\cv_camera_sensor_stream_handler.mp4\n",
      "0 ../cpi/id2\\angelo_gym\\cv_camera_sensor_stream_handler.mp4\n",
      "1 ../cpi/id2\\angelo_resting\\cv_camera_sensor_stream_handler.mp4\n",
      "2 ../cpi/id2\\angelo_rotation\\cv_camera_sensor_stream_handler.mp4\n",
      "3 ../cpi/id2\\angelo_talk\\cv_camera_sensor_stream_handler.mp4\n",
      "0 ../cpi/id3\\cpi_gym\\cv_camera_sensor_stream_handler.mp4\n",
      "1 ../cpi/id3\\cpi_resting\\cv_camera_sensor_stream_handler.mp4\n",
      "2 ../cpi/id3\\cpi_rotation\\cv_camera_sensor_stream_handler.mp4\n",
      "3 ../cpi/id3\\cpi_talk\\cv_camera_sensor_stream_handler.mp4\n",
      "0 ../cpi/id4\\harun_gym\\cv_camera_sensor_stream_handler.mp4\n",
      "1 ../cpi/id4\\harun_resting\\cv_camera_sensor_stream_handler.mp4\n",
      "2 ../cpi/id4\\harun_rotation\\cv_camera_sensor_stream_handler.mp4\n",
      "3 ../cpi/id4\\harun_talk\\cv_camera_sensor_stream_handler.mp4\n",
      "0 ../cpi/id5\\david_gym\\cv_camera_sensor_stream_handler.mp4\n",
      "1 ../cpi/id5\\david_resting\\cv_camera_sensor_stream_handler.mp4\n",
      "2 ../cpi/id5\\david_rotation\\cv_camera_sensor_stream_handler.mp4\n",
      "3 ../cpi/id5\\david_talk\\cv_camera_sensor_stream_handler.mp4\n",
      "0 ../cpi/id6\\felix_gym\\cv_camera_sensor_stream_handler.mp4\n",
      "1 ../cpi/id6\\felix_resting\\cv_camera_sensor_stream_handler.mp4\n",
      "2 ../cpi/id6\\felix_rotation\\cv_camera_sensor_stream_handler.mp4\n",
      "3 ../cpi/id6\\felix_talk\\cv_camera_sensor_stream_handler.mp4\n"
     ]
    }
   ],
   "source": [
    "# all videos at once\n",
    "# -- LOAD A DATASET\n",
    "dataset_name = 'lgi_ppgi'          # the name of the python class handling it \n",
    "video_dirs = os.listdir('../cpi/')\n",
    "\n",
    "for video_dir in video_dirs:\n",
    "  video_DIR = '../cpi/'+video_dir  # dir containing videos\n",
    "  BVP_DIR = video_DIR    # dir containing BVPs GT\n",
    "\n",
    "  dataset = vhr.datasets.datasetFactory(dataset_name, videodataDIR=video_DIR, BVPdataDIR=BVP_DIR)\n",
    "  dataset.video_EXT = 'mp4'\n",
    "  dataset.__init__(videodataDIR=video_DIR, BVPdataDIR=BVP_DIR)\n",
    "  allvideo = dataset.videoFilenames\n",
    "  # print the list of video names with the progressive index (idx)\n",
    "  for v in range(len(allvideo)):\n",
    "    print(v, allvideo[v])\n",
    "\n",
    "  # -- PARAMETER SETTING\n",
    "\n",
    "    wsize = 8          # seconds of video processed (with overlapping) for each estimate \n",
    "    # video_idx = 0      # index of the video to be processed\n",
    "    fname = dataset.getSigFilename(v)\n",
    "    try:\n",
    "      sigGT = dataset.readSigfile(fname)\n",
    "    except AssertionError:\n",
    "      continue\n",
    "    bpmGT, timesGT = sigGT.getBPM(wsize)\n",
    "    hr_df = pd.DataFrame({'time':timesGT,'bpm':bpmGT})\n",
    "    person = allvideo[v].split(os.sep)[1]\n",
    "    hr_df.to_csv(f'../data/hr_data/{person}.csv', index=False)"
   ]
  },
  {
   "cell_type": "code",
   "execution_count": 3,
   "metadata": {},
   "outputs": [],
   "source": [
    "# some code here that \n",
    "# moves all video files to data/test/train\n",
    "import shutil\n",
    "import glob"
   ]
  },
  {
   "cell_type": "code",
   "execution_count": 12,
   "metadata": {},
   "outputs": [
    {
     "data": {
      "text/plain": [
       "'..\\\\cpi\\\\id1\\\\alex_gym\\\\cv_camera_sensor_stream_handler.mp4'"
      ]
     },
     "execution_count": 12,
     "metadata": {},
     "output_type": "execute_result"
    }
   ],
   "source": [
    "files = glob.glob('..'+os.sep+'cpi/*/*/*.mp4')\n",
    "files[0]"
   ]
  },
  {
   "cell_type": "code",
   "execution_count": 13,
   "metadata": {},
   "outputs": [
    {
     "data": {
      "text/plain": [
       "True"
      ]
     },
     "execution_count": 13,
     "metadata": {},
     "output_type": "execute_result"
    }
   ],
   "source": [
    "import os\n",
    "os.path.isfile(files[0])"
   ]
  },
  {
   "cell_type": "code",
   "execution_count": 25,
   "metadata": {},
   "outputs": [
    {
     "data": {
      "text/plain": [
       "'../data/train/cv_camera_sensor_stream_handler.mp4'"
      ]
     },
     "execution_count": 25,
     "metadata": {},
     "output_type": "execute_result"
    }
   ],
   "source": [
    "# '../data/train/'+file.split(os.sep)[-1]"
   ]
  },
  {
   "cell_type": "code",
   "execution_count": 30,
   "metadata": {},
   "outputs": [],
   "source": [
    "files = glob.glob('..'+os.sep+'cpi/*/*/*.mp4')\n",
    "for file in files:\n",
    "    person = file.split(os.sep)[3]\n",
    "    shutil.copy(file, '../data/train')\n",
    "\n",
    "    dest_dir = 'data/train'\n",
    "    src_file = file\n",
    "    \n",
    "    dst_file = '../data/train/'+file.split(os.sep)[-1]\n",
    "    new_dst_file_name = f'../data/train/{person}.mp4'\n",
    "    try:\n",
    "        os.rename(dst_file, new_dst_file_name)#rename\n",
    "    except FileExistsError:\n",
    "        continue"
   ]
  },
  {
   "cell_type": "code",
   "execution_count": 10,
   "metadata": {},
   "outputs": [
    {
     "name": "stderr",
     "output_type": "stream",
     "text": [
      "100%|██████████| 2/2 [00:00<00:00, 117.40it/s]\n"
     ]
    }
   ],
   "source": [
    "test_video_dir = '../data/test'\n",
    "train_video_dir = '../data/train'\n",
    "test_video_items = [test_video_dir+'/'+filename for filename in os.listdir(test_video_dir)] \n",
    "train_video_items = [train_video_dir+'/'+filename for filename in os.listdir(train_video_dir)] \n",
    "v2m.get_spatio_temporal_map_threaded_wrapper(test_video_items, '../data/st_maps/test')\n",
    "v2m.get_spatio_temporal_map_threaded_wrapper(train_video_items, '../data/st_maps/train')"
   ]
  },
  {
   "cell_type": "code",
   "execution_count": null,
   "metadata": {},
   "outputs": [],
   "source": []
  }
 ],
 "metadata": {
  "interpreter": {
   "hash": "c94be41889154d41bf43aca8d1a8d1cd64b97c119170e03e2ed46ca87183f0c5"
  },
  "kernelspec": {
   "display_name": "Python 3.8.5 ('base')",
   "language": "python",
   "name": "python3"
  },
  "language_info": {
   "codemirror_mode": {
    "name": "ipython",
    "version": 3
   },
   "file_extension": ".py",
   "mimetype": "text/x-python",
   "name": "python",
   "nbconvert_exporter": "python",
   "pygments_lexer": "ipython3",
   "version": "3.8.5"
  },
  "orig_nbformat": 4
 },
 "nbformat": 4,
 "nbformat_minor": 2
}
