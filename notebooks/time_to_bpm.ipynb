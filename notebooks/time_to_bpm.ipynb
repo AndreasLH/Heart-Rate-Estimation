{
 "cells": [
  {
   "cell_type": "code",
   "execution_count": 1,
   "metadata": {
    "id": "nFP37oIXuKQN"
   },
   "outputs": [],
   "source": [
    "import pyVHR as vhr\n",
    "import numpy as np\n",
    "import matplotlib.pyplot as plt\n",
    "import pandas as pd\n",
    "import os\n",
    "# Plotting: set 'colab' for Google Colaboratory, 'notebook' otherwise\n",
    "vhr.plot.VisualizeParams.renderer = 'notebook'  # or 'notebook'"
   ]
  },
  {
   "cell_type": "code",
   "execution_count": null,
   "metadata": {
    "id": "YYKTCUkf7Y6l"
   },
   "outputs": [],
   "source": [
    "# -- LOAD A DATASET\n",
    "\n",
    "dataset_name = 'lgi_ppgi'          # the name of the python class handling it \n",
    "\n",
    "video_dirs = os.listdir('../cpi/')\n",
    "video_DIR = '../cpi/cpi_resting/'  # dir containing videos\n",
    "BVP_DIR = video_DIR    # dir containing BVPs GT\n",
    "\n",
    "dataset = vhr.datasets.datasetFactory(dataset_name, videodataDIR=video_DIR, BVPdataDIR=BVP_DIR)\n",
    "\n",
    "#overwrite to use compressed video\n",
    "# setattr(dataset,'video_EXT','mp4')\n",
    "dataset.video_EXT = 'mp4'\n",
    "dataset.__init__(videodataDIR=video_DIR, BVPdataDIR=BVP_DIR)\n",
    "\n",
    "\n",
    "allvideo = dataset.videoFilenames\n",
    "\n",
    "# print the list of video names with the progressive index (idx)\n",
    "for v in range(len(allvideo)):\n",
    "  print(v, allvideo[v])"
   ]
  },
  {
   "cell_type": "code",
   "execution_count": null,
   "metadata": {
    "id": "AKz1w2i48u-Z"
   },
   "outputs": [],
   "source": [
    "# -- PARAMETER SETTING\n",
    "\n",
    "wsize = 8          # seconds of video processed (with overlapping) for each estimate \n",
    "video_idx = 0      # index of the video to be processed\n",
    "fname = dataset.getSigFilename(video_idx)\n",
    "sigGT = dataset.readSigfile(fname)\n",
    "test_bvp = sigGT.data\n",
    "bpmGT, timesGT = sigGT.getBPM(wsize)\n",
    "videoFileName = dataset.getVideoFilename(video_idx)\n",
    "print('Video processed name: ', videoFileName)\n",
    "fps = vhr.extraction.utils.get_fps(videoFileName)\n",
    "print('Video frame rate:     ',fps)"
   ]
  },
  {
   "cell_type": "code",
   "execution_count": null,
   "metadata": {},
   "outputs": [],
   "source": [
    "# a = sigGT.spectrogram()\n",
    "# sigGT.displaySpectrum(display=True)"
   ]
  },
  {
   "cell_type": "code",
   "execution_count": null,
   "metadata": {},
   "outputs": [],
   "source": [
    "plt.plot(timesGT,bpmGT) \n",
    "hr_df = pd.DataFrame({'time':timesGT,'bpm':bpmGT})\n",
    "hr_df.to_csv('hr_cpi_resting.csv', index=False)"
   ]
  },
  {
   "cell_type": "code",
   "execution_count": null,
   "metadata": {},
   "outputs": [],
   "source": [
    "video_dirs = os.listdir('../cpi/')\n",
    "print('../cpi/'+video_dirs[0])"
   ]
  },
  {
   "cell_type": "code",
   "execution_count": null,
   "metadata": {},
   "outputs": [],
   "source": [
    "# all videos at once\n",
    "# -- LOAD A DATASET\n",
    "\n",
    "dataset_name = 'lgi_ppgi'          # the name of the python class handling it \n",
    "video_dirs = os.listdir('../cpi/')\n",
    "\n",
    "for video_dir in video_dirs:\n",
    "  video_DIR = '../cpi/'+video_dir  # dir containing videos\n",
    "  BVP_DIR = video_DIR    # dir containing BVPs GT\n",
    "\n",
    "  dataset = vhr.datasets.datasetFactory(dataset_name, videodataDIR=video_DIR, BVPdataDIR=BVP_DIR)\n",
    "  dataset.video_EXT = 'mp4'\n",
    "  dataset.__init__(videodataDIR=video_DIR, BVPdataDIR=BVP_DIR)\n",
    "\n",
    "  # print the list of video names with the progressive index (idx)\n",
    "  for v in range(len(allvideo)):\n",
    "    print(v, allvideo[v])\n",
    "\n",
    "  # -- PARAMETER SETTING\n",
    "\n",
    "  wsize = 8          # seconds of video processed (with overlapping) for each estimate \n",
    "  video_idx = 0      # index of the video to be processed\n",
    "  fname = dataset.getSigFilename(video_idx)\n",
    "  sigGT = dataset.readSigfile(fname)\n",
    "  bpmGT, timesGT = sigGT.getBPM(wsize)\n",
    "  hr_df = pd.DataFrame({'time':timesGT,'bpm':bpmGT})\n",
    "  hr_df.to_csv(f'../data/hr_data/{video_dir}.csv', index=False)"
   ]
  },
  {
   "cell_type": "code",
   "execution_count": null,
   "metadata": {},
   "outputs": [],
   "source": [
    "# some code here that \n",
    "# moves all video files to data/test/train\n",
    "import shutil\n",
    "import glob"
   ]
  },
  {
   "cell_type": "code",
   "execution_count": null,
   "metadata": {},
   "outputs": [],
   "source": [
    "glob.glob('*.mp4')\n",
    "shutil.copy()"
   ]
  },
  {
   "cell_type": "code",
   "execution_count": 2,
   "metadata": {},
   "outputs": [],
   "source": [
    "import sys\n",
    "sys.path.append('..')\n",
    "from src.utils import video2st_maps as v2m"
   ]
  },
  {
   "cell_type": "code",
   "execution_count": 8,
   "metadata": {},
   "outputs": [
    {
     "data": {
      "text/plain": [
       "<module 'src.utils.video2st_maps' from '..\\\\src\\\\utils\\\\video2st_maps.py'>"
      ]
     },
     "execution_count": 8,
     "metadata": {},
     "output_type": "execute_result"
    }
   ],
   "source": [
    "import importlib\n",
    "importlib.reload(v2m)"
   ]
  },
  {
   "cell_type": "code",
   "execution_count": 10,
   "metadata": {},
   "outputs": [
    {
     "name": "stderr",
     "output_type": "stream",
     "text": [
      "100%|██████████| 2/2 [00:00<00:00, 117.40it/s]\n"
     ]
    }
   ],
   "source": [
    "test_video_dir = '../data/test'\n",
    "train_video_dir = '../data/train'\n",
    "test_video_items = [test_video_dir+'/'+filename for filename in os.listdir(test_video_dir)] \n",
    "train_video_items = [train_video_dir+'/'+filename for filename in os.listdir(train_video_dir)] \n",
    "v2m.get_spatio_temporal_map_threaded_wrapper(test_video_items, '../data/st_maps/test')\n",
    "v2m.get_spatio_temporal_map_threaded_wrapper(train_video_items, '../data/st_maps/train')"
   ]
  },
  {
   "cell_type": "code",
   "execution_count": null,
   "metadata": {},
   "outputs": [],
   "source": []
  }
 ],
 "metadata": {
  "interpreter": {
   "hash": "c94be41889154d41bf43aca8d1a8d1cd64b97c119170e03e2ed46ca87183f0c5"
  },
  "kernelspec": {
   "display_name": "Python 3.8.5 ('base')",
   "language": "python",
   "name": "python3"
  },
  "language_info": {
   "codemirror_mode": {
    "name": "ipython",
    "version": 3
   },
   "file_extension": ".py",
   "mimetype": "text/x-python",
   "name": "python",
   "nbconvert_exporter": "python",
   "pygments_lexer": "ipython3",
   "version": "3.8.5"
  },
  "orig_nbformat": 4
 },
 "nbformat": 4,
 "nbformat_minor": 2
}
