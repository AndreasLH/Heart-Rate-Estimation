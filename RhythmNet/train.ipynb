{
 "cells": [
  {
   "cell_type": "markdown",
   "metadata": {},
   "source": [
    "Pipeline\n",
    "\n",
    "0. Get HR as correct signal from pyVHR\n",
    "1. Extract spatial temporal map\n",
    "2. Train\n",
    "3. Eval\n",
    "4. Predict"
   ]
  },
  {
   "cell_type": "code",
   "execution_count": 13,
   "metadata": {},
   "outputs": [],
   "source": [
    "import os\n",
    "from utils.dataset import DataLoaderRhythmNet\n",
    "from utils.model_utils import plot_loss, load_model_if_checkpointed, save_model_checkpoint\n",
    "from models.rhythmNet import RhythmNet\n",
    "from loss_func.rhythmnet_loss import RhythmNetLoss\n",
    "import torch\n",
    "import config\n",
    "from torch.utils.tensorboard import SummaryWriter\n",
    "\n",
    "import utils.train_val as train_val\n",
    "from utils.plot_scripts import plot_train_test_curves, bland_altman_plot, gt_vs_est, create_plot_for_tensorboard\n",
    "import numpy as np"
   ]
  },
  {
   "cell_type": "code",
   "execution_count": 14,
   "metadata": {},
   "outputs": [
    {
     "name": "stdout",
     "output_type": "stream",
     "text": [
      "GPU not available, using CPU\n"
     ]
    }
   ],
   "source": [
    "# check path to checkpoint directory\n",
    "if config.CHECKPOINT_PATH:\n",
    "    if not os.path.exists(config.CHECKPOINT_PATH):\n",
    "        os.makedirs(config.CHECKPOINT_PATH)\n",
    "        print(\"Output directory is created\")\n",
    "\n",
    "model = RhythmNet()\n",
    "\n",
    "if torch.cuda.is_available():\n",
    "    print('GPU available... using GPU')\n",
    "    torch.cuda.manual_seed_all(42)\n",
    "else:\n",
    "    print(\"GPU not available, using CPU\")\n",
    "\n",
    "if config.CHECKPOINT_PATH:\n",
    "    checkpoint_path = os.path.join(os.getcwd(), config.CHECKPOINT_PATH)\n",
    "    if not os.path.exists(checkpoint_path):\n",
    "        os.makedirs(checkpoint_path)\n",
    "        print(\"Output directory is created\")\n",
    "\n",
    "device = torch.device('cuda:0') if torch.cuda.is_available() else torch.device('cpu')\n",
    "\n",
    "model.to(device)\n",
    "\n",
    "optimizer = torch.optim.Adam(model.parameters(), lr=config.lr)\n",
    "scheduler = torch.optim.lr_scheduler.ReduceLROnPlateau(\n",
    "    optimizer, factor=0.8, patience=5, verbose=True\n",
    ")\n",
    "# loss_fn = nn.L1Loss()\n",
    "loss_fn = RhythmNetLoss()\n",
    "\n",
    "testset = trainset = None\n",
    "\n",
    "# Initialize SummaryWriter object\n",
    "writer = SummaryWriter()"
   ]
  },
  {
   "cell_type": "code",
   "execution_count": 15,
   "metadata": {},
   "outputs": [
    {
     "name": "stdout",
     "output_type": "stream",
     "text": [
      "\n",
      "Train DataLoader constructed successfully!\n"
     ]
    }
   ],
   "source": [
    "# video files are st_maps\n",
    "test_video_dir = '../data/st_maps/test'\n",
    "train_video_dir = '../data/st_maps/train'\n",
    "video_files_train = os.listdir(\"../data/st_maps/train/\")\n",
    "video_files_test = os.listdir(\"../data/st_maps/test/\")\n",
    "test_video_items = [test_video_dir+'/'+filename for filename in os.listdir(test_video_dir)] \n",
    "train_video_items = [train_video_dir+'/'+filename for filename in os.listdir(train_video_dir)] \n",
    "TARGET_SIGNAL_DIR = '../data/hr_data'\n",
    "# --------------------------------------\n",
    "# Build Dataloaders\n",
    "# --------------------------------------\n",
    "def collate_fn(batch):\n",
    "    '''the collate function ensures that the maps of different sizes are stackable'''\n",
    "    batched_st_map, batched_targets = [], []\n",
    "    # for data in batch:\n",
    "    #     batched_st_map.append(data[\"st_maps\"])\n",
    "    #     batched_targets.append(data[\"target\"])\n",
    "    # # torch.stack(batched_output_per_clip, dim=0).transpose_(0, 1)\n",
    "    return batch\n",
    "\n",
    "train_set = DataLoaderRhythmNet(st_maps_path=train_video_items, target_signal_path=TARGET_SIGNAL_DIR)\n",
    "batch_size = 1\n",
    "train_loader = torch.utils.data.DataLoader(\n",
    "    dataset=train_set,\n",
    "    batch_size=batch_size,\n",
    "    num_workers=0,\n",
    "    shuffle=False,\n",
    "    collate_fn=collate_fn\n",
    ")\n",
    "print('\\nTrain DataLoader constructed successfully!')\n",
    "\n",
    "# Code to use multiple GPUs (if available)\n",
    "if torch.cuda.device_count() > 1:\n",
    "    print(\"Let's use\", torch.cuda.device_count(), \"GPUs!\")\n",
    "    model = torch.nn.DataParallel(model)"
   ]
  },
  {
   "cell_type": "code",
   "execution_count": 16,
   "metadata": {},
   "outputs": [
    {
     "name": "stdout",
     "output_type": "stream",
     "text": [
      "Checkpoint Not Found! Training from beginning\n"
     ]
    }
   ],
   "source": [
    "# --------------------------------------\n",
    "# Load checkpointed model (if  present)\n",
    "# --------------------------------------\n",
    "if device == \"cpu\":\n",
    "    load_on_cpu = True\n",
    "else:\n",
    "    load_on_cpu = False\n",
    "model, optimizer, checkpointed_loss, checkpoint_flag = load_model_if_checkpointed(model, optimizer, checkpoint_path, load_on_cpu=load_on_cpu)\n",
    "if checkpoint_flag:\n",
    "    print(f\"Checkpoint Found! Loading from checkpoint :: LOSS={checkpointed_loss}\")\n",
    "else:\n",
    "    print(\"Checkpoint Not Found! Training from beginning\")"
   ]
  },
  {
   "cell_type": "code",
   "execution_count": 17,
   "metadata": {},
   "outputs": [],
   "source": [
    "def rmse(l1, l2):\n",
    "    return np.sqrt(np.mean((l1-l2)**2))\n",
    "\n",
    "def mae(l1, l2):\n",
    "    return np.mean([abs(item1-item2)for item1, item2 in zip(l1, l2)])\n",
    "\n",
    "def compute_criteria(target_hr_list, predicted_hr_list):\n",
    "    pearson_per_signal = []\n",
    "    HR_MAE = mae(np.array(predicted_hr_list), np.array(target_hr_list))\n",
    "    HR_RMSE = rmse(np.array(predicted_hr_list), np.array(target_hr_list))\n",
    "\n",
    "    # for (gt_signal, predicted_signal) in zip(target_hr_list, predicted_hr_list):\n",
    "    #     r, p_value = pearsonr(predicted_signal, gt_signal)\n",
    "    #     pearson_per_signal.append(r)\n",
    "\n",
    "    # return {\"MAE\": np.mean(HR_MAE), \"RMSE\": HR_RMSE, \"Pearson\": np.mean(pearson_per_signal)}\n",
    "    return {\"MAE\": np.mean(HR_MAE), \"RMSE\": HR_RMSE}"
   ]
  },
  {
   "cell_type": "code",
   "execution_count": 18,
   "metadata": {},
   "outputs": [
    {
     "name": "stderr",
     "output_type": "stream",
     "text": [
      "100%|██████████| 16/16 [06:54<00:00, 25.91s/it]\n"
     ]
    },
    {
     "name": "stdout",
     "output_type": "stream",
     "text": [
      "Saved!\n",
      "\n",
      "Finished [Epoch: 1/5] \n",
      "Training Loss: 54.918 | HR_MAE : 54.084 | HR_RMSE : 63.113 |\n"
     ]
    },
    {
     "name": "stderr",
     "output_type": "stream",
     "text": [
      "100%|██████████| 16/16 [06:18<00:00, 23.67s/it]\n"
     ]
    },
    {
     "name": "stdout",
     "output_type": "stream",
     "text": [
      "Saved!\n",
      "\n",
      "Finished [Epoch: 2/5] \n",
      "Training Loss: 17.827 | HR_MAE : 17.085 | HR_RMSE : 20.905 |\n"
     ]
    },
    {
     "name": "stderr",
     "output_type": "stream",
     "text": [
      "100%|██████████| 16/16 [07:09<00:00, 26.83s/it]\n"
     ]
    },
    {
     "name": "stdout",
     "output_type": "stream",
     "text": [
      "Saved!\n",
      "\n",
      "Finished [Epoch: 3/5] \n",
      "Training Loss: 12.987 | HR_MAE : 12.419 | HR_RMSE : 17.279 |\n"
     ]
    },
    {
     "name": "stderr",
     "output_type": "stream",
     "text": [
      "100%|██████████| 16/16 [06:44<00:00, 25.29s/it]\n"
     ]
    },
    {
     "name": "stdout",
     "output_type": "stream",
     "text": [
      "\n",
      "Finished [Epoch: 4/5] \n",
      "Training Loss: 19.367 | HR_MAE : 18.850 | HR_RMSE : 23.239 |\n"
     ]
    },
    {
     "name": "stderr",
     "output_type": "stream",
     "text": [
      "100%|██████████| 16/16 [07:08<00:00, 26.76s/it]"
     ]
    },
    {
     "name": "stdout",
     "output_type": "stream",
     "text": [
      "\n",
      "Finished [Epoch: 5/5] \n",
      "Training Loss: 29.416 | HR_MAE : 28.993 | HR_RMSE : 33.399 |\n",
      "Avg Training Loss: 26.90289835333824 for 5 epochs\n"
     ]
    },
    {
     "name": "stderr",
     "output_type": "stream",
     "text": [
      "\n"
     ]
    }
   ],
   "source": [
    "# Training\n",
    "EPOCHS = 5\n",
    "if not checkpoint_flag:\n",
    "    train_losses = []\n",
    "    train_loss_per_epoch = []\n",
    "    for epoch in range(EPOCHS):\n",
    "        # short-circuit for evaluation\n",
    "        \n",
    "        target_hr_list, predicted_hr_list, train_loss = train_val.train_fn(model, train_loader, optimizer, loss_fn, batch_size=batch_size)\n",
    "        train_losses.append(train_loss)\n",
    "        # Save model with final train loss (script to save the best weights?)\n",
    "        if checkpointed_loss != 0.0:\n",
    "            if train_loss < checkpointed_loss:\n",
    "                save_model_checkpoint(model, optimizer, train_loss, checkpoint_path)\n",
    "                checkpointed_loss = train_loss\n",
    "            else:\n",
    "                pass\n",
    "        else:\n",
    "            if len(train_loss_per_epoch) > 0:\n",
    "                if train_loss < min(train_loss_per_epoch):\n",
    "                    save_model_checkpoint(model, optimizer, train_loss, checkpoint_path)\n",
    "            else:\n",
    "                save_model_checkpoint(model, optimizer, train_loss, checkpoint_path)\n",
    "\n",
    "        metrics = compute_criteria(target_hr_list, predicted_hr_list)\n",
    "\n",
    "        for metric in metrics.keys():\n",
    "            writer.add_scalar(f\"Train/{metric}\", metrics[metric], epoch)\n",
    "\n",
    "        print(f\"\\nFinished [Epoch: {epoch + 1}/{EPOCHS}]\",\n",
    "                \"\\nTraining Loss: {:.3f} |\".format(train_loss),\n",
    "                \"HR_MAE : {:.3f} |\".format(metrics[\"MAE\"]),\n",
    "                \"HR_RMSE : {:.3f} |\".format(metrics[\"RMSE\"]),)\n",
    "                # \"Pearsonr : {:.3f} |\".format(metrics[\"Pearson\"]), )\n",
    "\n",
    "        train_loss_per_epoch.append(train_loss)\n",
    "        writer.add_scalar(\"Loss/train\", train_loss, epoch+1)\n",
    "\n",
    "        # Plots on tensorboard\n",
    "        # ba_plot_image = create_plot_for_tensorboard('bland_altman', target_hr_list, predicted_hr_list)\n",
    "        # gtvsest_plot_image = create_plot_for_tensorboard('gt_vs_est', target_hr_list, predicted_hr_list)\n",
    "        # writer.add_image('BA_plot', ba_plot_image, epoch)\n",
    "        # writer.add_image('gtvsest_plot', gtvsest_plot_image, epoch)\n",
    "\n",
    "    mean_loss = np.mean(train_loss_per_epoch)\n",
    "    # Save the mean_loss value for each video instance to the writer\n",
    "    print(f\"Avg Training Loss: {np.mean(mean_loss)} for {EPOCHS} epochs\")\n",
    "    writer.flush()"
   ]
  },
  {
   "cell_type": "code",
   "execution_count": 26,
   "metadata": {},
   "outputs": [],
   "source": [
    "import pickle\n",
    "with open('../checkpoint/train_loss.pkl', \"wb\") as f:\n",
    "    pickle.dump(train_losses, f)"
   ]
  },
  {
   "cell_type": "code",
   "execution_count": 19,
   "metadata": {},
   "outputs": [
    {
     "name": "stdout",
     "output_type": "stream",
     "text": [
      "Checkpoint Found! Loading from checkpoint :: LOSS=12.986644178628922\n"
     ]
    }
   ],
   "source": [
    "# --------------------------------------\n",
    "# Load checkpointed model (if  present)\n",
    "# --------------------------------------\n",
    "if config.DEVICE == \"cpu\":\n",
    "    load_on_cpu = True\n",
    "else:\n",
    "    load_on_cpu = False\n",
    "model, optimizer, checkpointed_loss, checkpoint_flag = load_model_if_checkpointed(model, optimizer,\n",
    "                                                                                    checkpoint_path,\n",
    "                                                                                    load_on_cpu=load_on_cpu)\n",
    "if checkpoint_flag:\n",
    "    print(f\"Checkpoint Found! Loading from checkpoint :: LOSS={checkpointed_loss}\")\n",
    "    with open('../checkpoint/train_loss.pkl', \"rb\") as f:\n",
    "        pickle.load(f)\n",
    "else:\n",
    "    print(\"Checkpoint Not Found! Training from beginning\")\n"
   ]
  },
  {
   "cell_type": "code",
   "execution_count": 20,
   "metadata": {},
   "outputs": [
    {
     "name": "stdout",
     "output_type": "stream",
     "text": [
      "\n",
      "Evaluation DataLoader constructed successfully!\n"
     ]
    }
   ],
   "source": [
    "test_signal_path = ['../data/st_maps/test/']\n",
    "test_set = DataLoaderRhythmNet(st_maps_path=test_video_items, target_signal_path=test_signal_path)\n",
    "test_loader = torch.utils.data.DataLoader(\n",
    "    dataset=test_set,\n",
    "    batch_size=batch_size,\n",
    "    num_workers=0,\n",
    "    shuffle=False,\n",
    "    collate_fn=collate_fn\n",
    ")\n",
    "print('\\nEvaluation DataLoader constructed successfully!')"
   ]
  },
  {
   "cell_type": "code",
   "execution_count": 21,
   "metadata": {},
   "outputs": [
    {
     "name": "stdout",
     "output_type": "stream",
     "text": [
      "Finished Training, Validating 4 video files for 1 Epochs\n"
     ]
    },
    {
     "name": "stderr",
     "output_type": "stream",
     "text": [
      "100%|██████████| 4/4 [00:26<00:00,  6.56s/it]\n"
     ]
    },
    {
     "name": "stdout",
     "output_type": "stream",
     "text": [
      "\n",
      "Finished Test [Epoch: 1/1] \n",
      "Test Loss: 14.463 | HR_MAE : 13.570 | HR_RMSE : 18.263 |\n",
      "done\n"
     ]
    },
    {
     "data": {
      "image/png": "[encoded data removed]",
      "text/plain": [
       "<Figure size 432x288 with 1 Axes>"
      ]
     },
     "metadata": {
      "needs_background": "light"
     },
     "output_type": "display_data"
    },
    {
     "data": {
      "image/png": "[encoded data removed]",
      "text/plain": [
       "<Figure size 432x288 with 1 Axes>"
      ]
     },
     "metadata": {
      "needs_background": "light"
     },
     "output_type": "display_data"
    },
    {
     "data": {
      "image/png": "[encoded data removed]",
      "text/plain": [
       "<Figure size 432x288 with 1 Axes>"
      ]
     },
     "metadata": {
      "needs_background": "light"
     },
     "output_type": "display_data"
    },
    {
     "data": {
      "image/png": "[encoded data removed]",
      "text/plain": [
       "<Figure size 432x288 with 1 Axes>"
      ]
     },
     "metadata": {
      "needs_background": "light"
     },
     "output_type": "display_data"
    }
   ],
   "source": [
    "# -----------------------------\n",
    "# Start Validation\n",
    "# -----------------------------\n",
    "\n",
    "EPOCHS_TEST = 1\n",
    "print(f\"Finished Training, Validating {len(video_files_test)} video files for {EPOCHS_TEST} Epochs\")\n",
    "\n",
    "eval_loss_per_epoch = []\n",
    "test_losses = []\n",
    "for epoch in range(EPOCHS_TEST):\n",
    "    # validation\n",
    "    target_hr_list, predicted_hr_list, test_loss = train_val.eval_fn(model, test_loader, loss_fn, batch_size=batch_size)\n",
    "    test_losses.append(test_loss)\n",
    "    # truth_hr_list.append(target)\n",
    "    # estimated_hr_list.append(predicted)\n",
    "    metrics = compute_criteria(target_hr_list, predicted_hr_list)\n",
    "    for metric in metrics.keys():\n",
    "        writer.add_scalar(f\"Test/{metric}\", metrics[metric], epoch)\n",
    "\n",
    "    print(f\"\\nFinished Test [Epoch: {epoch + 1}/{EPOCHS_TEST}]\",\n",
    "            \"\\nTest Loss: {:.3f} |\".format(test_loss),\n",
    "            \"HR_MAE : {:.3f} |\".format(metrics[\"MAE\"]),\n",
    "            \"HR_RMSE : {:.3f} |\".format(metrics[\"RMSE\"]),)\n",
    "\n",
    "    writer.add_scalar(\"Loss/test\", test_loss, epoch)\n",
    "\n",
    "    # Plots on tensorboard\n",
    "    ba_plot_image = create_plot_for_tensorboard('bland_altman', target_hr_list, predicted_hr_list)\n",
    "    gtvsest_plot_image = create_plot_for_tensorboard('gt_vs_est', target_hr_list, predicted_hr_list)\n",
    "    writer.add_image('BA_plot', ba_plot_image, epoch)\n",
    "    writer.add_image('gtvsest_plot', gtvsest_plot_image, epoch)\n",
    "\n",
    "\n",
    "# print(f\"Avg Validation Loss: {mean_test_loss} for {config.EPOCHS_TEST} epochs\")\n",
    "writer.flush()\n",
    "# Plots on the local storage.\n",
    "gt_vs_est(target_hr_list, predicted_hr_list, plot_path='plots')\n",
    "bland_altman_plot(target_hr_list, predicted_hr_list, plot_path='plots')\n",
    "writer.close()\n",
    "print(\"done\")"
   ]
  },
  {
   "cell_type": "code",
   "execution_count": 22,
   "metadata": {},
   "outputs": [],
   "source": [
    "data = next(iter(test_loader))[0]\n",
    "st_maps, target = data['st_maps'], data['target']\n",
    "model.eval()\n",
    "with torch.no_grad():\n",
    "    pred = model(st_maps, target)"
   ]
  },
  {
   "cell_type": "code",
   "execution_count": 23,
   "metadata": {},
   "outputs": [
    {
     "data": {
      "image/png": "[encoded data removed]",
      "text/plain": [
       "<Figure size 432x288 with 1 Axes>"
      ]
     },
     "metadata": {
      "needs_background": "light"
     },
     "output_type": "display_data"
    }
   ],
   "source": [
    "import matplotlib.pyplot as plt\n",
    "fig, ax = plt.subplots()\n",
    "x = range(len(target))\n",
    "ax.plot(pred[0].flatten(), label='predicted')\n",
    "ax.plot(target, label='gt')\n",
    "ax.set_xlabel('time (s)')\n",
    "ax.set_ylabel('Heart rate (BPM)')\n",
    "ax.legend();\n",
    "plt.savefig('plots/predictedHR.pdf')"
   ]
  },
  {
   "cell_type": "code",
   "execution_count": 24,
   "metadata": {},
   "outputs": [
    {
     "data": {
      "image/png": "[encoded data removed]",
      "text/plain": [
       "<Figure size 432x288 with 1 Axes>"
      ]
     },
     "metadata": {
      "needs_background": "light"
     },
     "output_type": "display_data"
    }
   ],
   "source": [
    "fig, ax = plt.subplots()\n",
    "ax.plot(train_losses, label='train loss')\n",
    "# ax.plot(test_losses, label='test loss')\n",
    "ax.set_xlabel('epochs')\n",
    "ax.set_ylabel('loss')\n",
    "ax.legend();\n",
    "plt.savefig('plots/loss.pdf')"
   ]
  },
  {
   "cell_type": "code",
   "execution_count": null,
   "metadata": {},
   "outputs": [],
   "source": []
  }
 ],
 "metadata": {
  "interpreter": {
   "hash": "c4f92193806e2908606a5f23edd55a5282f2f433b73b1c504507f9256ed9f0b4"
  },
  "kernelspec": {
   "display_name": "Python 3.8.5 ('base')",
   "language": "python",
   "name": "python3"
  },
  "language_info": {
   "codemirror_mode": {
    "name": "ipython",
    "version": 3
   },
   "file_extension": ".py",
   "mimetype": "text/x-python",
   "name": "python",
   "nbconvert_exporter": "python",
   "pygments_lexer": "ipython3",
   "version": "3.8.5"
  },
  "orig_nbformat": 4
 },
 "nbformat": 4,
 "nbformat_minor": 2
}
