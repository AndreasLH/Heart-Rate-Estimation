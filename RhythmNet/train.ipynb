{
 "cells": [
  {
   "cell_type": "markdown",
   "metadata": {},
   "source": [
    "Pipeline\n",
    "\n",
    "0. Get HR as correct signal from pyVHR\n",
    "1. Extract spatial temporal map\n",
    "2. Train\n",
    "3. Eval\n",
    "4. Predict"
   ]
  },
  {
   "cell_type": "code",
   "execution_count": 1,
   "metadata": {},
   "outputs": [],
   "source": [
    "import os\n",
    "from utils.dataset import DataLoaderRhythmNet\n",
    "from utils.model_utils import plot_loss, load_model_if_checkpointed, save_model_checkpoint\n",
    "from models.rhythmNet import RhythmNet\n",
    "from loss_func.rhythmnet_loss import RhythmNetLoss\n",
    "import torch\n",
    "import config\n",
    "from torch.utils.tensorboard import SummaryWriter\n",
    "\n",
    "import utils.train_val as train_val\n",
    "from utils.plot_scripts import plot_train_test_curves, bland_altman_plot, gt_vs_est, create_plot_for_tensorboard\n",
    "import numpy as np"
   ]
  },
  {
   "cell_type": "code",
   "execution_count": 2,
   "metadata": {},
   "outputs": [
    {
     "name": "stdout",
     "output_type": "stream",
     "text": [
      "GPU not available, using CPU\n"
     ]
    }
   ],
   "source": [
    "# check path to checkpoint directory\n",
    "if config.CHECKPOINT_PATH:\n",
    "    if not os.path.exists(config.CHECKPOINT_PATH):\n",
    "        os.makedirs(config.CHECKPOINT_PATH)\n",
    "        print(\"Output directory is created\")\n",
    "\n",
    "model = RhythmNet()\n",
    "\n",
    "if torch.cuda.is_available():\n",
    "    print('GPU available... using GPU')\n",
    "    torch.cuda.manual_seed_all(42)\n",
    "else:\n",
    "    print(\"GPU not available, using CPU\")\n",
    "\n",
    "if config.CHECKPOINT_PATH:\n",
    "    checkpoint_path = os.path.join(os.getcwd(), config.CHECKPOINT_PATH)\n",
    "    if not os.path.exists(checkpoint_path):\n",
    "        os.makedirs(checkpoint_path)\n",
    "        print(\"Output directory is created\")\n",
    "\n",
    "device = torch.device('cuda:0') if torch.cuda.is_available() else torch.device('cpu')\n",
    "\n",
    "model.to(device)\n",
    "\n",
    "optimizer = torch.optim.Adam(model.parameters(), lr=config.lr)\n",
    "scheduler = torch.optim.lr_scheduler.ReduceLROnPlateau(\n",
    "    optimizer, factor=0.8, patience=5, verbose=True\n",
    ")\n",
    "# loss_fn = nn.L1Loss()\n",
    "loss_fn = RhythmNetLoss()\n",
    "\n",
    "testset = trainset = None\n",
    "\n",
    "# Initialize SummaryWriter object\n",
    "writer = SummaryWriter()"
   ]
  },
  {
   "cell_type": "code",
   "execution_count": 3,
   "metadata": {},
   "outputs": [
    {
     "name": "stdout",
     "output_type": "stream",
     "text": [
      "\n",
      "Train DataLoader constructed successfully!\n"
     ]
    }
   ],
   "source": [
    "# video files are st_maps\n",
    "test_video_dir = '../data/st_maps/test'\n",
    "train_video_dir = '../data/st_maps/train'\n",
    "video_files_train = os.listdir(\"../data/st_maps/train/\")\n",
    "video_files_test = os.listdir(\"../data/st_maps/test/\")\n",
    "test_video_items = [test_video_dir+'/'+filename for filename in os.listdir(test_video_dir)] \n",
    "train_video_items = [train_video_dir+'/'+filename for filename in os.listdir(train_video_dir)] \n",
    "TARGET_SIGNAL_DIR = '../data/hr_data'\n",
    "# --------------------------------------\n",
    "# Build Dataloaders\n",
    "# --------------------------------------\n",
    "def collate_fn(batch):\n",
    "    '''the collate function ensures that the maps of different sizes are stackable'''\n",
    "    batched_st_map, batched_targets = [], []\n",
    "    # for data in batch:\n",
    "    #     batched_st_map.append(data[\"st_maps\"])\n",
    "    #     batched_targets.append(data[\"target\"])\n",
    "    # # torch.stack(batched_output_per_clip, dim=0).transpose_(0, 1)\n",
    "    return batch\n",
    "\n",
    "train_set = DataLoaderRhythmNet(st_maps_path=train_video_items, target_signal_path=TARGET_SIGNAL_DIR)\n",
    "batch_size = 1\n",
    "train_loader = torch.utils.data.DataLoader(\n",
    "    dataset=train_set,\n",
    "    batch_size=batch_size,\n",
    "    num_workers=0,\n",
    "    shuffle=False,\n",
    "    collate_fn=collate_fn\n",
    ")\n",
    "print('\\nTrain DataLoader constructed successfully!')\n",
    "\n",
    "# Code to use multiple GPUs (if available)\n",
    "if torch.cuda.device_count() > 1:\n",
    "    print(\"Let's use\", torch.cuda.device_count(), \"GPUs!\")\n",
    "    model = torch.nn.DataParallel(model)"
   ]
  },
  {
   "cell_type": "code",
   "execution_count": 4,
   "metadata": {},
   "outputs": [
    {
     "name": "stdout",
     "output_type": "stream",
     "text": [
      "Checkpoint Found! Loading from checkpoint :: LOSS=15.96020521223545\n"
     ]
    }
   ],
   "source": [
    "# --------------------------------------\n",
    "# Load checkpointed model (if  present)\n",
    "# --------------------------------------\n",
    "if device == \"cpu\":\n",
    "    load_on_cpu = True\n",
    "else:\n",
    "    load_on_cpu = False\n",
    "model, optimizer, checkpointed_loss, checkpoint_flag = load_model_if_checkpointed(model, optimizer, checkpoint_path, load_on_cpu=load_on_cpu)\n",
    "if checkpoint_flag:\n",
    "    print(f\"Checkpoint Found! Loading from checkpoint :: LOSS={checkpointed_loss}\")\n",
    "else:\n",
    "    print(\"Checkpoint Not Found! Training from beginning\")"
   ]
  },
  {
   "cell_type": "code",
   "execution_count": 5,
   "metadata": {},
   "outputs": [],
   "source": [
    "def rmse(l1, l2):\n",
    "    return np.sqrt(np.mean((l1-l2)**2))\n",
    "\n",
    "def mae(l1, l2):\n",
    "    return np.mean([abs(item1-item2)for item1, item2 in zip(l1, l2)])\n",
    "\n",
    "def compute_criteria(target_hr_list, predicted_hr_list):\n",
    "    pearson_per_signal = []\n",
    "    HR_MAE = mae(np.array(predicted_hr_list), np.array(target_hr_list))\n",
    "    HR_RMSE = rmse(np.array(predicted_hr_list), np.array(target_hr_list))\n",
    "\n",
    "    # for (gt_signal, predicted_signal) in zip(target_hr_list, predicted_hr_list):\n",
    "    #     r, p_value = pearsonr(predicted_signal, gt_signal)\n",
    "    #     pearson_per_signal.append(r)\n",
    "\n",
    "    # return {\"MAE\": np.mean(HR_MAE), \"RMSE\": HR_RMSE, \"Pearson\": np.mean(pearson_per_signal)}\n",
    "    return {\"MAE\": np.mean(HR_MAE), \"RMSE\": HR_RMSE}"
   ]
  },
  {
   "cell_type": "code",
   "execution_count": 6,
   "metadata": {},
   "outputs": [],
   "source": [
    "# Training\n",
    "EPOCHS = 5\n",
    "if not checkpoint_flag:\n",
    "    train_losses = []\n",
    "    train_loss_per_epoch = []\n",
    "    for epoch in range(EPOCHS):\n",
    "        # short-circuit for evaluation\n",
    "        \n",
    "        target_hr_list, predicted_hr_list, train_loss = train_val.train_fn(model, train_loader, optimizer, loss_fn, batch_size=batch_size)\n",
    "        train_losses.append(train_loss)\n",
    "        # Save model with final train loss (script to save the best weights?)\n",
    "        if checkpointed_loss != 0.0:\n",
    "            if train_loss < checkpointed_loss:\n",
    "                save_model_checkpoint(model, optimizer, train_loss, checkpoint_path)\n",
    "                checkpointed_loss = train_loss\n",
    "            else:\n",
    "                pass\n",
    "        else:\n",
    "            if len(train_loss_per_epoch) > 0:\n",
    "                if train_loss < min(train_loss_per_epoch):\n",
    "                    save_model_checkpoint(model, optimizer, train_loss, checkpoint_path)\n",
    "            else:\n",
    "                save_model_checkpoint(model, optimizer, train_loss, checkpoint_path)\n",
    "\n",
    "        metrics = compute_criteria(target_hr_list, predicted_hr_list)\n",
    "\n",
    "        for metric in metrics.keys():\n",
    "            writer.add_scalar(f\"Train/{metric}\", metrics[metric], epoch)\n",
    "\n",
    "        print(f\"\\nFinished [Epoch: {epoch + 1}/{EPOCHS}]\",\n",
    "                \"\\nTraining Loss: {:.3f} |\".format(train_loss),\n",
    "                \"HR_MAE : {:.3f} |\".format(metrics[\"MAE\"]),\n",
    "                \"HR_RMSE : {:.3f} |\".format(metrics[\"RMSE\"]),)\n",
    "                # \"Pearsonr : {:.3f} |\".format(metrics[\"Pearson\"]), )\n",
    "\n",
    "        train_loss_per_epoch.append(train_loss)\n",
    "        writer.add_scalar(\"Loss/train\", train_loss, epoch+1)\n",
    "\n",
    "        # Plots on tensorboard\n",
    "        # ba_plot_image = create_plot_for_tensorboard('bland_altman', target_hr_list, predicted_hr_list)\n",
    "        # gtvsest_plot_image = create_plot_for_tensorboard('gt_vs_est', target_hr_list, predicted_hr_list)\n",
    "        # writer.add_image('BA_plot', ba_plot_image, epoch)\n",
    "        # writer.add_image('gtvsest_plot', gtvsest_plot_image, epoch)\n",
    "\n",
    "    mean_loss = np.mean(train_loss_per_epoch)\n",
    "    # Save the mean_loss value for each video instance to the writer\n",
    "    print(f\"Avg Training Loss: {np.mean(mean_loss)} for {EPOCHS} epochs\")\n",
    "    writer.flush()"
   ]
  },
  {
   "cell_type": "code",
   "execution_count": 7,
   "metadata": {},
   "outputs": [
    {
     "name": "stdout",
     "output_type": "stream",
     "text": [
      "Checkpoint Found! Loading from checkpoint :: LOSS=15.96020521223545\n"
     ]
    }
   ],
   "source": [
    "# --------------------------------------\n",
    "# Load checkpointed model (if  present)\n",
    "# --------------------------------------\n",
    "if config.DEVICE == \"cpu\":\n",
    "    load_on_cpu = True\n",
    "else:\n",
    "    load_on_cpu = False\n",
    "model, optimizer, checkpointed_loss, checkpoint_flag = load_model_if_checkpointed(model, optimizer,\n",
    "                                                                                    checkpoint_path,\n",
    "                                                                                    load_on_cpu=load_on_cpu)\n",
    "if checkpoint_flag:\n",
    "    print(f\"Checkpoint Found! Loading from checkpoint :: LOSS={checkpointed_loss}\")\n",
    "else:\n",
    "    print(\"Checkpoint Not Found! Training from beginning\")\n"
   ]
  },
  {
   "cell_type": "code",
   "execution_count": 8,
   "metadata": {},
   "outputs": [
    {
     "name": "stdout",
     "output_type": "stream",
     "text": [
      "\n",
      "Evaluation DataLoader constructed successfully!\n"
     ]
    }
   ],
   "source": [
    "test_signal_path = ['../data/st_maps/test/']\n",
    "test_set = DataLoaderRhythmNet(st_maps_path=test_video_items, target_signal_path=test_signal_path)\n",
    "test_loader = torch.utils.data.DataLoader(\n",
    "    dataset=test_set,\n",
    "    batch_size=batch_size,\n",
    "    num_workers=0,\n",
    "    shuffle=False,\n",
    "    collate_fn=collate_fn\n",
    ")\n",
    "print('\\nEvaluation DataLoader constructed successfully!')"
   ]
  },
  {
   "cell_type": "code",
   "execution_count": 9,
   "metadata": {},
   "outputs": [
    {
     "name": "stdout",
     "output_type": "stream",
     "text": [
      "Finished Training, Validating 4 video files for 1 Epochs\n"
     ]
    },
    {
     "name": "stderr",
     "output_type": "stream",
     "text": [
      "  0%|          | 0/4 [00:00<?, ?it/s]\n"
     ]
    },
    {
     "ename": "NameError",
     "evalue": "name 'get_hr_data' is not defined",
     "output_type": "error",
     "traceback": [
      "\u001b[1;31m---------------------------------------------------------------------------\u001b[0m",
      "\u001b[1;31mNameError\u001b[0m                                 Traceback (most recent call last)",
      "\u001b[1;32m~\\AppData\\Local\\Temp/ipykernel_1076/249155441.py\u001b[0m in \u001b[0;36m<module>\u001b[1;34m\u001b[0m\n\u001b[0;32m     10\u001b[0m \u001b[1;32mfor\u001b[0m \u001b[0mepoch\u001b[0m \u001b[1;32min\u001b[0m \u001b[0mrange\u001b[0m\u001b[1;33m(\u001b[0m\u001b[0mEPOCHS_TEST\u001b[0m\u001b[1;33m)\u001b[0m\u001b[1;33m:\u001b[0m\u001b[1;33m\u001b[0m\u001b[1;33m\u001b[0m\u001b[0m\n\u001b[0;32m     11\u001b[0m     \u001b[1;31m# validation\u001b[0m\u001b[1;33m\u001b[0m\u001b[1;33m\u001b[0m\u001b[1;33m\u001b[0m\u001b[0m\n\u001b[1;32m---> 12\u001b[1;33m     \u001b[0mtarget_hr_list\u001b[0m\u001b[1;33m,\u001b[0m \u001b[0mpredicted_hr_list\u001b[0m\u001b[1;33m,\u001b[0m \u001b[0mtest_loss\u001b[0m \u001b[1;33m=\u001b[0m \u001b[0mtrain_val\u001b[0m\u001b[1;33m.\u001b[0m\u001b[0meval_fn\u001b[0m\u001b[1;33m(\u001b[0m\u001b[0mmodel\u001b[0m\u001b[1;33m,\u001b[0m \u001b[0mtest_loader\u001b[0m\u001b[1;33m,\u001b[0m \u001b[0mloss_fn\u001b[0m\u001b[1;33m,\u001b[0m \u001b[0mbatch_size\u001b[0m\u001b[1;33m=\u001b[0m\u001b[0mbatch_size\u001b[0m\u001b[1;33m)\u001b[0m\u001b[1;33m\u001b[0m\u001b[1;33m\u001b[0m\u001b[0m\n\u001b[0m\u001b[0;32m     13\u001b[0m     \u001b[0mtest_losses\u001b[0m\u001b[1;33m.\u001b[0m\u001b[0mappend\u001b[0m\u001b[1;33m(\u001b[0m\u001b[0mtest_loss\u001b[0m\u001b[1;33m)\u001b[0m\u001b[1;33m\u001b[0m\u001b[1;33m\u001b[0m\u001b[0m\n\u001b[0;32m     14\u001b[0m     \u001b[1;31m# truth_hr_list.append(target)\u001b[0m\u001b[1;33m\u001b[0m\u001b[1;33m\u001b[0m\u001b[1;33m\u001b[0m\u001b[0m\n",
      "\u001b[1;32mc:\\Users\\andre\\OneDriveDTU\\Bachelorprojekt\\Heart-Rate-Estimation\\RhythmNet\\utils\\train_val.py\u001b[0m in \u001b[0;36meval_fn\u001b[1;34m(model, data_loader, loss_fn, batch_size)\u001b[0m\n\u001b[0;32m     47\u001b[0m     \u001b[1;32mwith\u001b[0m \u001b[0mtorch\u001b[0m\u001b[1;33m.\u001b[0m\u001b[0mno_grad\u001b[0m\u001b[1;33m(\u001b[0m\u001b[1;33m)\u001b[0m\u001b[1;33m:\u001b[0m\u001b[1;33m\u001b[0m\u001b[1;33m\u001b[0m\u001b[0m\n\u001b[0;32m     48\u001b[0m         \u001b[0mtk_iterator\u001b[0m \u001b[1;33m=\u001b[0m \u001b[0mtqdm\u001b[0m\u001b[1;33m(\u001b[0m\u001b[0mdata_loader\u001b[0m\u001b[1;33m,\u001b[0m \u001b[0mtotal\u001b[0m\u001b[1;33m=\u001b[0m\u001b[0mlen\u001b[0m\u001b[1;33m(\u001b[0m\u001b[0mdata_loader\u001b[0m\u001b[1;33m)\u001b[0m\u001b[1;33m)\u001b[0m\u001b[1;33m\u001b[0m\u001b[1;33m\u001b[0m\u001b[0m\n\u001b[1;32m---> 49\u001b[1;33m         \u001b[1;32mfor\u001b[0m \u001b[0mbatch\u001b[0m \u001b[1;32min\u001b[0m \u001b[0mtk_iterator\u001b[0m\u001b[1;33m:\u001b[0m\u001b[1;33m\u001b[0m\u001b[1;33m\u001b[0m\u001b[0m\n\u001b[0m\u001b[0;32m     50\u001b[0m             \u001b[1;32mfor\u001b[0m \u001b[0mdata\u001b[0m \u001b[1;32min\u001b[0m \u001b[0mbatch\u001b[0m\u001b[1;33m:\u001b[0m\u001b[1;33m\u001b[0m\u001b[1;33m\u001b[0m\u001b[0m\n\u001b[0;32m     51\u001b[0m                 \u001b[1;32mfor\u001b[0m \u001b[1;33m(\u001b[0m\u001b[0mkey\u001b[0m\u001b[1;33m,\u001b[0m \u001b[0mvalue\u001b[0m\u001b[1;33m)\u001b[0m \u001b[1;32min\u001b[0m \u001b[0mdata\u001b[0m\u001b[1;33m.\u001b[0m\u001b[0mitems\u001b[0m\u001b[1;33m(\u001b[0m\u001b[1;33m)\u001b[0m\u001b[1;33m:\u001b[0m\u001b[1;33m\u001b[0m\u001b[1;33m\u001b[0m\u001b[0m\n",
      "\u001b[1;32mc:\\Users\\andre\\anaconda3\\lib\\site-packages\\tqdm\\std.py\u001b[0m in \u001b[0;36m__iter__\u001b[1;34m(self)\u001b[0m\n\u001b[0;32m   1178\u001b[0m \u001b[1;33m\u001b[0m\u001b[0m\n\u001b[0;32m   1179\u001b[0m         \u001b[1;32mtry\u001b[0m\u001b[1;33m:\u001b[0m\u001b[1;33m\u001b[0m\u001b[1;33m\u001b[0m\u001b[0m\n\u001b[1;32m-> 1180\u001b[1;33m             \u001b[1;32mfor\u001b[0m \u001b[0mobj\u001b[0m \u001b[1;32min\u001b[0m \u001b[0miterable\u001b[0m\u001b[1;33m:\u001b[0m\u001b[1;33m\u001b[0m\u001b[1;33m\u001b[0m\u001b[0m\n\u001b[0m\u001b[0;32m   1181\u001b[0m                 \u001b[1;32myield\u001b[0m \u001b[0mobj\u001b[0m\u001b[1;33m\u001b[0m\u001b[1;33m\u001b[0m\u001b[0m\n\u001b[0;32m   1182\u001b[0m                 \u001b[1;31m# Update and possibly print the progressbar.\u001b[0m\u001b[1;33m\u001b[0m\u001b[1;33m\u001b[0m\u001b[1;33m\u001b[0m\u001b[0m\n",
      "\u001b[1;32mc:\\Users\\andre\\anaconda3\\lib\\site-packages\\torch\\utils\\data\\dataloader.py\u001b[0m in \u001b[0;36m__next__\u001b[1;34m(self)\u001b[0m\n\u001b[0;32m    433\u001b[0m         \u001b[1;32mif\u001b[0m \u001b[0mself\u001b[0m\u001b[1;33m.\u001b[0m\u001b[0m_sampler_iter\u001b[0m \u001b[1;32mis\u001b[0m \u001b[1;32mNone\u001b[0m\u001b[1;33m:\u001b[0m\u001b[1;33m\u001b[0m\u001b[1;33m\u001b[0m\u001b[0m\n\u001b[0;32m    434\u001b[0m             \u001b[0mself\u001b[0m\u001b[1;33m.\u001b[0m\u001b[0m_reset\u001b[0m\u001b[1;33m(\u001b[0m\u001b[1;33m)\u001b[0m\u001b[1;33m\u001b[0m\u001b[1;33m\u001b[0m\u001b[0m\n\u001b[1;32m--> 435\u001b[1;33m         \u001b[0mdata\u001b[0m \u001b[1;33m=\u001b[0m \u001b[0mself\u001b[0m\u001b[1;33m.\u001b[0m\u001b[0m_next_data\u001b[0m\u001b[1;33m(\u001b[0m\u001b[1;33m)\u001b[0m\u001b[1;33m\u001b[0m\u001b[1;33m\u001b[0m\u001b[0m\n\u001b[0m\u001b[0;32m    436\u001b[0m         \u001b[0mself\u001b[0m\u001b[1;33m.\u001b[0m\u001b[0m_num_yielded\u001b[0m \u001b[1;33m+=\u001b[0m \u001b[1;36m1\u001b[0m\u001b[1;33m\u001b[0m\u001b[1;33m\u001b[0m\u001b[0m\n\u001b[0;32m    437\u001b[0m         \u001b[1;32mif\u001b[0m \u001b[0mself\u001b[0m\u001b[1;33m.\u001b[0m\u001b[0m_dataset_kind\u001b[0m \u001b[1;33m==\u001b[0m \u001b[0m_DatasetKind\u001b[0m\u001b[1;33m.\u001b[0m\u001b[0mIterable\u001b[0m \u001b[1;32mand\u001b[0m\u001b[0;31m \u001b[0m\u001b[0;31m\\\u001b[0m\u001b[1;33m\u001b[0m\u001b[1;33m\u001b[0m\u001b[0m\n",
      "\u001b[1;32mc:\\Users\\andre\\anaconda3\\lib\\site-packages\\torch\\utils\\data\\dataloader.py\u001b[0m in \u001b[0;36m_next_data\u001b[1;34m(self)\u001b[0m\n\u001b[0;32m    473\u001b[0m     \u001b[1;32mdef\u001b[0m \u001b[0m_next_data\u001b[0m\u001b[1;33m(\u001b[0m\u001b[0mself\u001b[0m\u001b[1;33m)\u001b[0m\u001b[1;33m:\u001b[0m\u001b[1;33m\u001b[0m\u001b[1;33m\u001b[0m\u001b[0m\n\u001b[0;32m    474\u001b[0m         \u001b[0mindex\u001b[0m \u001b[1;33m=\u001b[0m \u001b[0mself\u001b[0m\u001b[1;33m.\u001b[0m\u001b[0m_next_index\u001b[0m\u001b[1;33m(\u001b[0m\u001b[1;33m)\u001b[0m  \u001b[1;31m# may raise StopIteration\u001b[0m\u001b[1;33m\u001b[0m\u001b[1;33m\u001b[0m\u001b[0m\n\u001b[1;32m--> 475\u001b[1;33m         \u001b[0mdata\u001b[0m \u001b[1;33m=\u001b[0m \u001b[0mself\u001b[0m\u001b[1;33m.\u001b[0m\u001b[0m_dataset_fetcher\u001b[0m\u001b[1;33m.\u001b[0m\u001b[0mfetch\u001b[0m\u001b[1;33m(\u001b[0m\u001b[0mindex\u001b[0m\u001b[1;33m)\u001b[0m  \u001b[1;31m# may raise StopIteration\u001b[0m\u001b[1;33m\u001b[0m\u001b[1;33m\u001b[0m\u001b[0m\n\u001b[0m\u001b[0;32m    476\u001b[0m         \u001b[1;32mif\u001b[0m \u001b[0mself\u001b[0m\u001b[1;33m.\u001b[0m\u001b[0m_pin_memory\u001b[0m\u001b[1;33m:\u001b[0m\u001b[1;33m\u001b[0m\u001b[1;33m\u001b[0m\u001b[0m\n\u001b[0;32m    477\u001b[0m             \u001b[0mdata\u001b[0m \u001b[1;33m=\u001b[0m \u001b[0m_utils\u001b[0m\u001b[1;33m.\u001b[0m\u001b[0mpin_memory\u001b[0m\u001b[1;33m.\u001b[0m\u001b[0mpin_memory\u001b[0m\u001b[1;33m(\u001b[0m\u001b[0mdata\u001b[0m\u001b[1;33m)\u001b[0m\u001b[1;33m\u001b[0m\u001b[1;33m\u001b[0m\u001b[0m\n",
      "\u001b[1;32mc:\\Users\\andre\\anaconda3\\lib\\site-packages\\torch\\utils\\data\\_utils\\fetch.py\u001b[0m in \u001b[0;36mfetch\u001b[1;34m(self, possibly_batched_index)\u001b[0m\n\u001b[0;32m     42\u001b[0m     \u001b[1;32mdef\u001b[0m \u001b[0mfetch\u001b[0m\u001b[1;33m(\u001b[0m\u001b[0mself\u001b[0m\u001b[1;33m,\u001b[0m \u001b[0mpossibly_batched_index\u001b[0m\u001b[1;33m)\u001b[0m\u001b[1;33m:\u001b[0m\u001b[1;33m\u001b[0m\u001b[1;33m\u001b[0m\u001b[0m\n\u001b[0;32m     43\u001b[0m         \u001b[1;32mif\u001b[0m \u001b[0mself\u001b[0m\u001b[1;33m.\u001b[0m\u001b[0mauto_collation\u001b[0m\u001b[1;33m:\u001b[0m\u001b[1;33m\u001b[0m\u001b[1;33m\u001b[0m\u001b[0m\n\u001b[1;32m---> 44\u001b[1;33m             \u001b[0mdata\u001b[0m \u001b[1;33m=\u001b[0m \u001b[1;33m[\u001b[0m\u001b[0mself\u001b[0m\u001b[1;33m.\u001b[0m\u001b[0mdataset\u001b[0m\u001b[1;33m[\u001b[0m\u001b[0midx\u001b[0m\u001b[1;33m]\u001b[0m \u001b[1;32mfor\u001b[0m \u001b[0midx\u001b[0m \u001b[1;32min\u001b[0m \u001b[0mpossibly_batched_index\u001b[0m\u001b[1;33m]\u001b[0m\u001b[1;33m\u001b[0m\u001b[1;33m\u001b[0m\u001b[0m\n\u001b[0m\u001b[0;32m     45\u001b[0m         \u001b[1;32melse\u001b[0m\u001b[1;33m:\u001b[0m\u001b[1;33m\u001b[0m\u001b[1;33m\u001b[0m\u001b[0m\n\u001b[0;32m     46\u001b[0m             \u001b[0mdata\u001b[0m \u001b[1;33m=\u001b[0m \u001b[0mself\u001b[0m\u001b[1;33m.\u001b[0m\u001b[0mdataset\u001b[0m\u001b[1;33m[\u001b[0m\u001b[0mpossibly_batched_index\u001b[0m\u001b[1;33m]\u001b[0m\u001b[1;33m\u001b[0m\u001b[1;33m\u001b[0m\u001b[0m\n",
      "\u001b[1;32mc:\\Users\\andre\\anaconda3\\lib\\site-packages\\torch\\utils\\data\\_utils\\fetch.py\u001b[0m in \u001b[0;36m<listcomp>\u001b[1;34m(.0)\u001b[0m\n\u001b[0;32m     42\u001b[0m     \u001b[1;32mdef\u001b[0m \u001b[0mfetch\u001b[0m\u001b[1;33m(\u001b[0m\u001b[0mself\u001b[0m\u001b[1;33m,\u001b[0m \u001b[0mpossibly_batched_index\u001b[0m\u001b[1;33m)\u001b[0m\u001b[1;33m:\u001b[0m\u001b[1;33m\u001b[0m\u001b[1;33m\u001b[0m\u001b[0m\n\u001b[0;32m     43\u001b[0m         \u001b[1;32mif\u001b[0m \u001b[0mself\u001b[0m\u001b[1;33m.\u001b[0m\u001b[0mauto_collation\u001b[0m\u001b[1;33m:\u001b[0m\u001b[1;33m\u001b[0m\u001b[1;33m\u001b[0m\u001b[0m\n\u001b[1;32m---> 44\u001b[1;33m             \u001b[0mdata\u001b[0m \u001b[1;33m=\u001b[0m \u001b[1;33m[\u001b[0m\u001b[0mself\u001b[0m\u001b[1;33m.\u001b[0m\u001b[0mdataset\u001b[0m\u001b[1;33m[\u001b[0m\u001b[0midx\u001b[0m\u001b[1;33m]\u001b[0m \u001b[1;32mfor\u001b[0m \u001b[0midx\u001b[0m \u001b[1;32min\u001b[0m \u001b[0mpossibly_batched_index\u001b[0m\u001b[1;33m]\u001b[0m\u001b[1;33m\u001b[0m\u001b[1;33m\u001b[0m\u001b[0m\n\u001b[0m\u001b[0;32m     45\u001b[0m         \u001b[1;32melse\u001b[0m\u001b[1;33m:\u001b[0m\u001b[1;33m\u001b[0m\u001b[1;33m\u001b[0m\u001b[0m\n\u001b[0;32m     46\u001b[0m             \u001b[0mdata\u001b[0m \u001b[1;33m=\u001b[0m \u001b[0mself\u001b[0m\u001b[1;33m.\u001b[0m\u001b[0mdataset\u001b[0m\u001b[1;33m[\u001b[0m\u001b[0mpossibly_batched_index\u001b[0m\u001b[1;33m]\u001b[0m\u001b[1;33m\u001b[0m\u001b[1;33m\u001b[0m\u001b[0m\n",
      "\u001b[1;32mc:\\Users\\andre\\OneDriveDTU\\Bachelorprojekt\\Heart-Rate-Estimation\\RhythmNet\\utils\\dataset.py\u001b[0m in \u001b[0;36m__getitem__\u001b[1;34m(self, index)\u001b[0m\n\u001b[0;32m     35\u001b[0m         \u001b[0mself\u001b[0m\u001b[1;33m.\u001b[0m\u001b[0mmaps\u001b[0m \u001b[1;33m=\u001b[0m \u001b[0mself\u001b[0m\u001b[1;33m.\u001b[0m\u001b[0mmaps\u001b[0m\u001b[1;33m.\u001b[0m\u001b[0mreshape\u001b[0m\u001b[1;33m(\u001b[0m\u001b[1;33m(\u001b[0m\u001b[1;33m-\u001b[0m\u001b[1;36m1\u001b[0m\u001b[1;33m,\u001b[0m \u001b[0mmap_shape\u001b[0m\u001b[1;33m[\u001b[0m\u001b[1;36m3\u001b[0m\u001b[1;33m]\u001b[0m\u001b[1;33m,\u001b[0m \u001b[0mmap_shape\u001b[0m\u001b[1;33m[\u001b[0m\u001b[1;36m1\u001b[0m\u001b[1;33m]\u001b[0m\u001b[1;33m,\u001b[0m \u001b[0mmap_shape\u001b[0m\u001b[1;33m[\u001b[0m\u001b[1;36m2\u001b[0m\u001b[1;33m]\u001b[0m\u001b[1;33m)\u001b[0m\u001b[1;33m)\u001b[0m\u001b[1;33m\u001b[0m\u001b[1;33m\u001b[0m\u001b[0m\n\u001b[0;32m     36\u001b[0m \u001b[1;33m\u001b[0m\u001b[0m\n\u001b[1;32m---> 37\u001b[1;33m         \u001b[0mtarget_hr\u001b[0m \u001b[1;33m=\u001b[0m \u001b[0mget_hr_data\u001b[0m\u001b[1;33m(\u001b[0m\u001b[0mself\u001b[0m\u001b[1;33m.\u001b[0m\u001b[0mvideo_file_name\u001b[0m\u001b[1;33m)\u001b[0m\u001b[1;33m\u001b[0m\u001b[1;33m\u001b[0m\u001b[0m\n\u001b[0m\u001b[0;32m     38\u001b[0m         \u001b[1;31m# To check the fact that we dont have number of targets greater than the number of maps\u001b[0m\u001b[1;33m\u001b[0m\u001b[1;33m\u001b[0m\u001b[1;33m\u001b[0m\u001b[0m\n\u001b[0;32m     39\u001b[0m         \u001b[1;31m# target_hr = target_hr[:map_shape[0]]\u001b[0m\u001b[1;33m\u001b[0m\u001b[1;33m\u001b[0m\u001b[1;33m\u001b[0m\u001b[0m\n",
      "\u001b[1;31mNameError\u001b[0m: name 'get_hr_data' is not defined"
     ]
    }
   ],
   "source": [
    "# -----------------------------\n",
    "# Start Validation\n",
    "# -----------------------------\n",
    "\n",
    "EPOCHS_TEST = 1\n",
    "print(f\"Finished Training, Validating {len(video_files_test)} video files for {EPOCHS_TEST} Epochs\")\n",
    "\n",
    "eval_loss_per_epoch = []\n",
    "test_losses = []\n",
    "for epoch in range(EPOCHS_TEST):\n",
    "    # validation\n",
    "    target_hr_list, predicted_hr_list, test_loss = train_val.eval_fn(model, test_loader, loss_fn, batch_size=batch_size)\n",
    "    test_losses.append(test_loss)\n",
    "    # truth_hr_list.append(target)\n",
    "    # estimated_hr_list.append(predicted)\n",
    "    metrics = compute_criteria(target_hr_list, predicted_hr_list)\n",
    "    for metric in metrics.keys():\n",
    "        writer.add_scalar(f\"Test/{metric}\", metrics[metric], epoch)\n",
    "\n",
    "    print(f\"\\nFinished Test [Epoch: {epoch + 1}/{EPOCHS_TEST}]\",\n",
    "            \"\\nTest Loss: {:.3f} |\".format(test_loss),\n",
    "            \"HR_MAE : {:.3f} |\".format(metrics[\"MAE\"]),\n",
    "            \"HR_RMSE : {:.3f} |\".format(metrics[\"RMSE\"]),)\n",
    "\n",
    "    writer.add_scalar(\"Loss/test\", test_loss, epoch)\n",
    "\n",
    "    # Plots on tensorboard\n",
    "    ba_plot_image = create_plot_for_tensorboard('bland_altman', target_hr_list, predicted_hr_list)\n",
    "    gtvsest_plot_image = create_plot_for_tensorboard('gt_vs_est', target_hr_list, predicted_hr_list)\n",
    "    writer.add_image('BA_plot', ba_plot_image, epoch)\n",
    "    writer.add_image('gtvsest_plot', gtvsest_plot_image, epoch)\n",
    "\n",
    "\n",
    "# print(f\"Avg Validation Loss: {mean_test_loss} for {config.EPOCHS_TEST} epochs\")\n",
    "writer.flush()\n",
    "# Plots on the local storage.\n",
    "gt_vs_est(target_hr_list, predicted_hr_list, plot_path=config.PLOT_PATH)\n",
    "bland_altman_plot(target_hr_list, predicted_hr_list, plot_path=config.PLOT_PATH)\n",
    "writer.close()\n",
    "print(\"done\")"
   ]
  },
  {
   "cell_type": "code",
   "execution_count": null,
   "metadata": {},
   "outputs": [],
   "source": [
    "data = next(iter(test_loader))[0]\n",
    "st_maps, target = data['st_maps'], data['target']\n",
    "model.eval()\n",
    "with torch.no_grad():\n",
    "    pred = model(st_maps, target)"
   ]
  },
  {
   "cell_type": "code",
   "execution_count": null,
   "metadata": {},
   "outputs": [
    {
     "data": {
      "image/png": "[encoded data removed]",
      "text/plain": [
       "<Figure size 432x288 with 1 Axes>"
      ]
     },
     "metadata": {
      "needs_background": "light"
     },
     "output_type": "display_data"
    }
   ],
   "source": [
    "import matplotlib.pyplot as plt\n",
    "fig, ax = plt.subplots()\n",
    "x = range(len(target))\n",
    "ax.plot(pred[0].flatten(), label='predicted')\n",
    "ax.plot(target, label='gt')\n",
    "ax.set_xlabel('time (s)')\n",
    "ax.set_ylabel('Heart rate (BPM)')\n",
    "ax.legend();\n",
    "plt.savefig('plots/predictedHR.pdf')"
   ]
  },
  {
   "cell_type": "code",
   "execution_count": null,
   "metadata": {},
   "outputs": [
    {
     "data": {
      "image/png": "[encoded data removed]",
      "text/plain": [
       "<Figure size 432x288 with 1 Axes>"
      ]
     },
     "metadata": {
      "needs_background": "light"
     },
     "output_type": "display_data"
    }
   ],
   "source": [
    "fig, ax = plt.subplots()\n",
    "ax.plot(train_losses, label='train loss')\n",
    "# ax.plot(test_losses, label='test loss')\n",
    "ax.set_xlabel('epochs')\n",
    "ax.set_ylabel('loss')\n",
    "ax.legend();\n",
    "plt.savefig('plots/loss.pdf')"
   ]
  },
  {
   "cell_type": "code",
   "execution_count": null,
   "metadata": {},
   "outputs": [],
   "source": []
  }
 ],
 "metadata": {
  "interpreter": {
   "hash": "c4f92193806e2908606a5f23edd55a5282f2f433b73b1c504507f9256ed9f0b4"
  },
  "kernelspec": {
   "display_name": "Python 3.8.5 ('base')",
   "language": "python",
   "name": "python3"
  },
  "language_info": {
   "codemirror_mode": {
    "name": "ipython",
    "version": 3
   },
   "file_extension": ".py",
   "mimetype": "text/x-python",
   "name": "python",
   "nbconvert_exporter": "python",
   "pygments_lexer": "ipython3",
   "version": "3.8.5"
  },
  "orig_nbformat": 4
 },
 "nbformat": 4,
 "nbformat_minor": 2
}
