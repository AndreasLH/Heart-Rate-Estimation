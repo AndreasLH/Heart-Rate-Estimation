{
 "cells": [
  {
   "cell_type": "markdown",
   "metadata": {},
   "source": [
    "Pipeline\n",
    "\n",
    "0. Get HR as correct signal from pyVHR\n",
    "1. Extract spatial temporal map\n",
    "2. Train\n",
    "3. Eval\n",
    "4. Predict"
   ]
  },
  {
   "cell_type": "code",
   "execution_count": 1,
   "metadata": {},
   "outputs": [],
   "source": [
    "import os\n",
    "from utils.dataset import DataLoaderRhythmNet\n",
    "from utils.model_utils import plot_loss, load_model_if_checkpointed, save_model_checkpoint\n",
    "from models.rhythmNet import RhythmNet\n",
    "from loss_func.rhythmnet_loss import RhythmNetLoss\n",
    "import torch\n",
    "import config\n",
    "from torch.utils.tensorboard import SummaryWriter\n",
    "\n",
    "import utils.train_val as train_val\n",
    "from utils.plot_scripts import plot_train_test_curves, bland_altman_plot, gt_vs_est, create_plot_for_tensorboard\n",
    "import numpy as np\n",
    "import pickle\n",
    "import matplotlib.pyplot as plt"
   ]
  },
  {
   "cell_type": "code",
   "execution_count": 2,
   "metadata": {},
   "outputs": [
    {
     "name": "stdout",
     "output_type": "stream",
     "text": [
      "GPU not available, using CPU\n"
     ]
    }
   ],
   "source": [
    "# check path to checkpoint directory\n",
    "if config.CHECKPOINT_PATH:\n",
    "    if not os.path.exists(config.CHECKPOINT_PATH):\n",
    "        os.makedirs(config.CHECKPOINT_PATH)\n",
    "        print(\"Output directory is created\")\n",
    "\n",
    "model = RhythmNet()\n",
    "\n",
    "if torch.cuda.is_available():\n",
    "    print('GPU available... using GPU')\n",
    "    torch.cuda.manual_seed_all(42)\n",
    "else:\n",
    "    print(\"GPU not available, using CPU\")\n",
    "\n",
    "if config.CHECKPOINT_PATH:\n",
    "    checkpoint_path = os.path.join(os.getcwd(), config.CHECKPOINT_PATH)\n",
    "    if not os.path.exists(checkpoint_path):\n",
    "        os.makedirs(checkpoint_path)\n",
    "        print(\"Output directory is created\")\n",
    "\n",
    "device = torch.device('cuda:0') if torch.cuda.is_available() else torch.device('cpu')\n",
    "\n",
    "model.to(device)\n",
    "\n",
    "optimizer = torch.optim.Adam(model.parameters(), lr=config.lr)\n",
    "scheduler = torch.optim.lr_scheduler.ReduceLROnPlateau(\n",
    "    optimizer, factor=0.8, patience=5, verbose=True\n",
    ")\n",
    "# loss_fn = nn.L1Loss()\n",
    "loss_fn = RhythmNetLoss()\n",
    "\n",
    "testset = trainset = None\n",
    "\n",
    "# Initialize SummaryWriter object\n",
    "writer = SummaryWriter()"
   ]
  },
  {
   "cell_type": "code",
   "execution_count": 3,
   "metadata": {},
   "outputs": [
    {
     "name": "stdout",
     "output_type": "stream",
     "text": [
      "\n",
      "Train DataLoader constructed successfully!\n"
     ]
    }
   ],
   "source": [
    "# video files are st_maps\n",
    "test_video_dir = '../data/st_maps/test'\n",
    "train_video_dir = '../data/st_maps/train'\n",
    "video_files_train = os.listdir(\"../data/st_maps/train/\")\n",
    "video_files_test = os.listdir(\"../data/st_maps/test/\")\n",
    "test_video_items = [test_video_dir+'/'+filename for filename in os.listdir(test_video_dir)] \n",
    "train_video_items = [train_video_dir+'/'+filename for filename in os.listdir(train_video_dir)] \n",
    "TARGET_SIGNAL_DIR = '../data/hr_data'\n",
    "# --------------------------------------\n",
    "# Build Dataloaders\n",
    "# --------------------------------------\n",
    "def collate_fn(batch):\n",
    "    '''the collate function ensures that the maps of different sizes are stackable'''\n",
    "    batched_st_map, batched_targets = [], []\n",
    "    # for data in batch:\n",
    "    #     batched_st_map.append(data[\"st_maps\"])\n",
    "    #     batched_targets.append(data[\"target\"])\n",
    "    # # torch.stack(batched_output_per_clip, dim=0).transpose_(0, 1)\n",
    "    return batch\n",
    "\n",
    "train_set = DataLoaderRhythmNet(st_maps_path=train_video_items, target_signal_path=TARGET_SIGNAL_DIR)\n",
    "batch_size = 1\n",
    "train_loader = torch.utils.data.DataLoader(\n",
    "    dataset=train_set,\n",
    "    batch_size=batch_size,\n",
    "    num_workers=0,\n",
    "    shuffle=False,\n",
    "    collate_fn=collate_fn\n",
    ")\n",
    "print('\\nTrain DataLoader constructed successfully!')\n",
    "\n",
    "# Code to use multiple GPUs (if available)\n",
    "if torch.cuda.device_count() > 1:\n",
    "    print(\"Let's use\", torch.cuda.device_count(), \"GPUs!\")\n",
    "    model = torch.nn.DataParallel(model)"
   ]
  },
  {
   "cell_type": "code",
   "execution_count": 4,
   "metadata": {},
   "outputs": [
    {
     "name": "stdout",
     "output_type": "stream",
     "text": [
      "Checkpoint Found! Loading from checkpoint :: LOSS=16.034708842635155\n"
     ]
    }
   ],
   "source": [
    "# --------------------------------------\n",
    "# Load checkpointed model (if  present)\n",
    "# --------------------------------------\n",
    "if device == \"cpu\":\n",
    "    load_on_cpu = True\n",
    "else:\n",
    "    load_on_cpu = False\n",
    "model, optimizer, checkpointed_loss, checkpoint_flag = load_model_if_checkpointed(model, optimizer, checkpoint_path, load_on_cpu=load_on_cpu)\n",
    "if checkpoint_flag:\n",
    "    print(f\"Checkpoint Found! Loading from checkpoint :: LOSS={checkpointed_loss}\")\n",
    "else:\n",
    "    print(\"Checkpoint Not Found! Training from beginning\")"
   ]
  },
  {
   "cell_type": "code",
   "execution_count": 5,
   "metadata": {},
   "outputs": [],
   "source": [
    "def rmse(l1, l2):\n",
    "    return np.sqrt(np.mean((l1-l2)**2))\n",
    "\n",
    "def mae(l1, l2):\n",
    "    return np.mean([abs(item1-item2)for item1, item2 in zip(l1, l2)])\n",
    "\n",
    "def compute_criteria(target_hr_list, predicted_hr_list):\n",
    "    pearson_per_signal = []\n",
    "    HR_MAE = mae(np.array(predicted_hr_list), np.array(target_hr_list))\n",
    "    HR_RMSE = rmse(np.array(predicted_hr_list), np.array(target_hr_list))\n",
    "\n",
    "    # for (gt_signal, predicted_signal) in zip(target_hr_list, predicted_hr_list):\n",
    "    #     r, p_value = pearsonr(predicted_signal, gt_signal)\n",
    "    #     pearson_per_signal.append(r)\n",
    "\n",
    "    # return {\"MAE\": np.mean(HR_MAE), \"RMSE\": HR_RMSE, \"Pearson\": np.mean(pearson_per_signal)}\n",
    "    return {\"MAE\": np.mean(HR_MAE), \"RMSE\": HR_RMSE}"
   ]
  },
  {
   "cell_type": "code",
   "execution_count": 6,
   "metadata": {},
   "outputs": [
    {
     "name": "stdout",
     "output_type": "stream",
     "text": [
      "Checkpoint Found! Loading from checkpoint :: LOSS=16.034708842635155\n"
     ]
    }
   ],
   "source": [
    "# --------------------------------------\n",
    "# Load checkpointed model (if  present)\n",
    "# --------------------------------------\n",
    "if config.DEVICE == \"cpu\":\n",
    "    load_on_cpu = True\n",
    "else:\n",
    "    load_on_cpu = False\n",
    "model, optimizer, checkpointed_loss, checkpoint_flag = load_model_if_checkpointed(model, optimizer,\n",
    "                                                                                    checkpoint_path,\n",
    "                                                                                    load_on_cpu=load_on_cpu)\n",
    "if checkpoint_flag:\n",
    "    print(f\"Checkpoint Found! Loading from checkpoint :: LOSS={checkpointed_loss}\")\n",
    "    with open('../checkpoint/train_loss.pkl', \"rb\") as f:\n",
    "        pickle.load(f)\n",
    "else:\n",
    "    print(\"Checkpoint Not Found! Training from beginning\")\n"
   ]
  },
  {
   "cell_type": "code",
   "execution_count": 7,
   "metadata": {},
   "outputs": [
    {
     "name": "stdout",
     "output_type": "stream",
     "text": [
      "\n",
      "Evaluation DataLoader constructed successfully!\n"
     ]
    }
   ],
   "source": [
    "test_signal_path = ['../data/st_maps/test/']\n",
    "test_set = DataLoaderRhythmNet(st_maps_path=test_video_items, target_signal_path=test_signal_path)\n",
    "test_loader = torch.utils.data.DataLoader(\n",
    "    dataset=test_set,\n",
    "    batch_size=batch_size,\n",
    "    num_workers=0,\n",
    "    shuffle=False,\n",
    "    collate_fn=collate_fn\n",
    ")\n",
    "print('\\nEvaluation DataLoader constructed successfully!')"
   ]
  },
  {
   "cell_type": "markdown",
   "metadata": {},
   "source": [
    "# Train"
   ]
  },
  {
   "cell_type": "code",
   "execution_count": 8,
   "metadata": {},
   "outputs": [],
   "source": [
    "# Training\n",
    "EPOCHS = 5\n",
    "if not checkpoint_flag:\n",
    "    train_losses = []\n",
    "    train_loss_per_epoch = []\n",
    "    eval_loss_per_epoch = []\n",
    "    test_losses = []\n",
    "    for epoch in range(EPOCHS):\n",
    "        # short-circuit for evaluation\n",
    "        \n",
    "        target_hr_list, predicted_hr_list, train_loss = train_val.train_fn(model, train_loader, optimizer, loss_fn, batch_size=batch_size)\n",
    "        train_losses.append(train_loss)\n",
    "        # Save model with final train loss (script to save the best weights?)\n",
    "        if checkpointed_loss != 0.0:\n",
    "            if train_loss < checkpointed_loss:\n",
    "                save_model_checkpoint(model, optimizer, train_loss, checkpoint_path)\n",
    "                checkpointed_loss = train_loss\n",
    "            else:\n",
    "                pass\n",
    "        else:\n",
    "            if len(train_loss_per_epoch) > 0:\n",
    "                if train_loss < min(train_loss_per_epoch):\n",
    "                    save_model_checkpoint(model, optimizer, train_loss, checkpoint_path)\n",
    "            else:\n",
    "                save_model_checkpoint(model, optimizer, train_loss, checkpoint_path)\n",
    "\n",
    "        metrics = compute_criteria(target_hr_list, predicted_hr_list)\n",
    "\n",
    "        for metric in metrics.keys():\n",
    "            writer.add_scalar(f\"Train/{metric}\", metrics[metric], epoch)\n",
    "\n",
    "        print(f\"\\nFinished Train [Epoch: {epoch + 1}/{EPOCHS}]\",\n",
    "                \"\\nTraining Loss: {:.3f} |\".format(train_loss),\n",
    "                \"HR_MAE : {:.3f} |\".format(metrics[\"MAE\"]),\n",
    "                \"HR_RMSE : {:.3f} |\".format(metrics[\"RMSE\"]),)\n",
    "                # \"Pearsonr : {:.3f} |\".format(metrics[\"Pearson\"]), )\n",
    "\n",
    "        train_loss_per_epoch.append(train_loss)\n",
    "        writer.add_scalar(\"Loss/train\", train_loss, epoch+1)\n",
    "\n",
    "        \n",
    "        \n",
    "        # validation\n",
    "        target_hr_list, predicted_hr_list, test_loss = train_val.eval_fn(model, test_loader, loss_fn, batch_size=batch_size)\n",
    "        test_losses.append(test_loss)\n",
    "        # truth_hr_list.append(target)\n",
    "        # estimated_hr_list.append(predicted)\n",
    "        metrics = compute_criteria(target_hr_list, predicted_hr_list)\n",
    "        for metric in metrics.keys():\n",
    "            writer.add_scalar(f\"Test/{metric}\", metrics[metric], epoch)\n",
    "\n",
    "        print(f\"\\nFinished Test [Epoch: {epoch + 1}/{EPOCHS}]\",\n",
    "                \"\\nTest Loss: {:.3f} |\".format(test_loss),\n",
    "                \"HR_MAE : {:.3f} |\".format(metrics[\"MAE\"]),\n",
    "                \"HR_RMSE : {:.3f} |\".format(metrics[\"RMSE\"]),)\n",
    "\n",
    "        writer.add_scalar(\"Loss/test\", test_loss, epoch)\n",
    "\n",
    "        # Plots on tensorboard\n",
    "        # ba_plot_image = create_plot_for_tensorboard('bland_altman', target_hr_list, predicted_hr_list)\n",
    "        # gtvsest_plot_image = create_plot_for_tensorboard('gt_vs_est', target_hr_list, predicted_hr_list)\n",
    "        # writer.add_image('BA_plot', ba_plot_image, epoch)\n",
    "        # writer.add_image('gtvsest_plot', gtvsest_plot_image, epoch)\n",
    "\n",
    "    mean_loss = np.mean(train_loss_per_epoch)\n",
    "    # Save the mean_loss value for each video instance to the writer\n",
    "    print(f\"Avg Training Loss: {np.mean(mean_loss)} for {EPOCHS} epochs\")\n",
    "    writer.flush()\n",
    "    "
   ]
  },
  {
   "cell_type": "code",
   "execution_count": 9,
   "metadata": {},
   "outputs": [],
   "source": [
    "if not checkpoint_flag:\n",
    "    with open('../checkpoint/train_loss.pkl', \"wb\") as f:\n",
    "        pickle.dump(train_losses, f)\n",
    "    with open('../checkpoint/test_loss.pkl', \"wb\") as f:\n",
    "        pickle.dump(test_losses, f)\n",
    "else:\n",
    "    with open('../checkpoint/train_loss.pkl', \"rb\") as f:\n",
    "        train_losses = pickle.load(f)\n",
    "    with open('../checkpoint/test_loss.pkl', \"rb\") as f:\n",
    "        test_losses = pickle.load(f)"
   ]
  },
  {
   "cell_type": "code",
   "execution_count": 10,
   "metadata": {},
   "outputs": [
    {
     "ename": "ValueError",
     "evalue": "x and y must have same first dimension, but have shapes (5,) and (1,)",
     "output_type": "error",
     "traceback": [
      "\u001b[1;31m---------------------------------------------------------------------------\u001b[0m",
      "\u001b[1;31mValueError\u001b[0m                                Traceback (most recent call last)",
      "\u001b[1;32m~\\AppData\\Local\\Temp/ipykernel_17952/2997655424.py\u001b[0m in \u001b[0;36m<module>\u001b[1;34m\u001b[0m\n\u001b[0;32m      1\u001b[0m \u001b[0mfig\u001b[0m\u001b[1;33m,\u001b[0m \u001b[0max\u001b[0m \u001b[1;33m=\u001b[0m \u001b[0mplt\u001b[0m\u001b[1;33m.\u001b[0m\u001b[0msubplots\u001b[0m\u001b[1;33m(\u001b[0m\u001b[1;33m)\u001b[0m\u001b[1;33m\u001b[0m\u001b[1;33m\u001b[0m\u001b[0m\n\u001b[0;32m      2\u001b[0m \u001b[0max\u001b[0m\u001b[1;33m.\u001b[0m\u001b[0mplot\u001b[0m\u001b[1;33m(\u001b[0m\u001b[0mrange\u001b[0m\u001b[1;33m(\u001b[0m\u001b[1;36m1\u001b[0m\u001b[1;33m,\u001b[0m\u001b[1;36m6\u001b[0m\u001b[1;33m)\u001b[0m\u001b[1;33m,\u001b[0m \u001b[0mtrain_losses\u001b[0m\u001b[1;33m,\u001b[0m \u001b[0mlabel\u001b[0m\u001b[1;33m=\u001b[0m\u001b[1;34m'train loss'\u001b[0m\u001b[1;33m)\u001b[0m\u001b[1;33m\u001b[0m\u001b[1;33m\u001b[0m\u001b[0m\n\u001b[1;32m----> 3\u001b[1;33m \u001b[0max\u001b[0m\u001b[1;33m.\u001b[0m\u001b[0mplot\u001b[0m\u001b[1;33m(\u001b[0m\u001b[0mrange\u001b[0m\u001b[1;33m(\u001b[0m\u001b[1;36m1\u001b[0m\u001b[1;33m,\u001b[0m\u001b[1;36m6\u001b[0m\u001b[1;33m)\u001b[0m\u001b[1;33m,\u001b[0m \u001b[0mtest_losses\u001b[0m\u001b[1;33m,\u001b[0m \u001b[0mlabel\u001b[0m\u001b[1;33m=\u001b[0m\u001b[1;34m'test loss'\u001b[0m\u001b[1;33m)\u001b[0m\u001b[1;33m\u001b[0m\u001b[1;33m\u001b[0m\u001b[0m\n\u001b[0m\u001b[0;32m      4\u001b[0m \u001b[0max\u001b[0m\u001b[1;33m.\u001b[0m\u001b[0mset_xlabel\u001b[0m\u001b[1;33m(\u001b[0m\u001b[1;34m'Epoch'\u001b[0m\u001b[1;33m)\u001b[0m\u001b[1;33m\u001b[0m\u001b[1;33m\u001b[0m\u001b[0m\n\u001b[0;32m      5\u001b[0m \u001b[0max\u001b[0m\u001b[1;33m.\u001b[0m\u001b[0mset_ylabel\u001b[0m\u001b[1;33m(\u001b[0m\u001b[1;34m'Loss'\u001b[0m\u001b[1;33m)\u001b[0m\u001b[1;33m\u001b[0m\u001b[1;33m\u001b[0m\u001b[0m\n",
      "\u001b[1;32mc:\\Users\\andre\\anaconda3\\lib\\site-packages\\matplotlib\\axes\\_axes.py\u001b[0m in \u001b[0;36mplot\u001b[1;34m(self, scalex, scaley, data, *args, **kwargs)\u001b[0m\n\u001b[0;32m   1630\u001b[0m         \"\"\"\n\u001b[0;32m   1631\u001b[0m         \u001b[0mkwargs\u001b[0m \u001b[1;33m=\u001b[0m \u001b[0mcbook\u001b[0m\u001b[1;33m.\u001b[0m\u001b[0mnormalize_kwargs\u001b[0m\u001b[1;33m(\u001b[0m\u001b[0mkwargs\u001b[0m\u001b[1;33m,\u001b[0m \u001b[0mmlines\u001b[0m\u001b[1;33m.\u001b[0m\u001b[0mLine2D\u001b[0m\u001b[1;33m)\u001b[0m\u001b[1;33m\u001b[0m\u001b[1;33m\u001b[0m\u001b[0m\n\u001b[1;32m-> 1632\u001b[1;33m         \u001b[0mlines\u001b[0m \u001b[1;33m=\u001b[0m \u001b[1;33m[\u001b[0m\u001b[1;33m*\u001b[0m\u001b[0mself\u001b[0m\u001b[1;33m.\u001b[0m\u001b[0m_get_lines\u001b[0m\u001b[1;33m(\u001b[0m\u001b[1;33m*\u001b[0m\u001b[0margs\u001b[0m\u001b[1;33m,\u001b[0m \u001b[0mdata\u001b[0m\u001b[1;33m=\u001b[0m\u001b[0mdata\u001b[0m\u001b[1;33m,\u001b[0m \u001b[1;33m**\u001b[0m\u001b[0mkwargs\u001b[0m\u001b[1;33m)\u001b[0m\u001b[1;33m]\u001b[0m\u001b[1;33m\u001b[0m\u001b[1;33m\u001b[0m\u001b[0m\n\u001b[0m\u001b[0;32m   1633\u001b[0m         \u001b[1;32mfor\u001b[0m \u001b[0mline\u001b[0m \u001b[1;32min\u001b[0m \u001b[0mlines\u001b[0m\u001b[1;33m:\u001b[0m\u001b[1;33m\u001b[0m\u001b[1;33m\u001b[0m\u001b[0m\n\u001b[0;32m   1634\u001b[0m             \u001b[0mself\u001b[0m\u001b[1;33m.\u001b[0m\u001b[0madd_line\u001b[0m\u001b[1;33m(\u001b[0m\u001b[0mline\u001b[0m\u001b[1;33m)\u001b[0m\u001b[1;33m\u001b[0m\u001b[1;33m\u001b[0m\u001b[0m\n",
      "\u001b[1;32mc:\\Users\\andre\\anaconda3\\lib\\site-packages\\matplotlib\\axes\\_base.py\u001b[0m in \u001b[0;36m__call__\u001b[1;34m(self, data, *args, **kwargs)\u001b[0m\n\u001b[0;32m    310\u001b[0m                 \u001b[0mthis\u001b[0m \u001b[1;33m+=\u001b[0m \u001b[0margs\u001b[0m\u001b[1;33m[\u001b[0m\u001b[1;36m0\u001b[0m\u001b[1;33m]\u001b[0m\u001b[1;33m,\u001b[0m\u001b[1;33m\u001b[0m\u001b[1;33m\u001b[0m\u001b[0m\n\u001b[0;32m    311\u001b[0m                 \u001b[0margs\u001b[0m \u001b[1;33m=\u001b[0m \u001b[0margs\u001b[0m\u001b[1;33m[\u001b[0m\u001b[1;36m1\u001b[0m\u001b[1;33m:\u001b[0m\u001b[1;33m]\u001b[0m\u001b[1;33m\u001b[0m\u001b[1;33m\u001b[0m\u001b[0m\n\u001b[1;32m--> 312\u001b[1;33m             \u001b[1;32myield\u001b[0m \u001b[1;32mfrom\u001b[0m \u001b[0mself\u001b[0m\u001b[1;33m.\u001b[0m\u001b[0m_plot_args\u001b[0m\u001b[1;33m(\u001b[0m\u001b[0mthis\u001b[0m\u001b[1;33m,\u001b[0m \u001b[0mkwargs\u001b[0m\u001b[1;33m)\u001b[0m\u001b[1;33m\u001b[0m\u001b[1;33m\u001b[0m\u001b[0m\n\u001b[0m\u001b[0;32m    313\u001b[0m \u001b[1;33m\u001b[0m\u001b[0m\n\u001b[0;32m    314\u001b[0m     \u001b[1;32mdef\u001b[0m \u001b[0mget_next_color\u001b[0m\u001b[1;33m(\u001b[0m\u001b[0mself\u001b[0m\u001b[1;33m)\u001b[0m\u001b[1;33m:\u001b[0m\u001b[1;33m\u001b[0m\u001b[1;33m\u001b[0m\u001b[0m\n",
      "\u001b[1;32mc:\\Users\\andre\\anaconda3\\lib\\site-packages\\matplotlib\\axes\\_base.py\u001b[0m in \u001b[0;36m_plot_args\u001b[1;34m(self, tup, kwargs, return_kwargs)\u001b[0m\n\u001b[0;32m    496\u001b[0m \u001b[1;33m\u001b[0m\u001b[0m\n\u001b[0;32m    497\u001b[0m         \u001b[1;32mif\u001b[0m \u001b[0mx\u001b[0m\u001b[1;33m.\u001b[0m\u001b[0mshape\u001b[0m\u001b[1;33m[\u001b[0m\u001b[1;36m0\u001b[0m\u001b[1;33m]\u001b[0m \u001b[1;33m!=\u001b[0m \u001b[0my\u001b[0m\u001b[1;33m.\u001b[0m\u001b[0mshape\u001b[0m\u001b[1;33m[\u001b[0m\u001b[1;36m0\u001b[0m\u001b[1;33m]\u001b[0m\u001b[1;33m:\u001b[0m\u001b[1;33m\u001b[0m\u001b[1;33m\u001b[0m\u001b[0m\n\u001b[1;32m--> 498\u001b[1;33m             raise ValueError(f\"x and y must have same first dimension, but \"\n\u001b[0m\u001b[0;32m    499\u001b[0m                              f\"have shapes {x.shape} and {y.shape}\")\n\u001b[0;32m    500\u001b[0m         \u001b[1;32mif\u001b[0m \u001b[0mx\u001b[0m\u001b[1;33m.\u001b[0m\u001b[0mndim\u001b[0m \u001b[1;33m>\u001b[0m \u001b[1;36m2\u001b[0m \u001b[1;32mor\u001b[0m \u001b[0my\u001b[0m\u001b[1;33m.\u001b[0m\u001b[0mndim\u001b[0m \u001b[1;33m>\u001b[0m \u001b[1;36m2\u001b[0m\u001b[1;33m:\u001b[0m\u001b[1;33m\u001b[0m\u001b[1;33m\u001b[0m\u001b[0m\n",
      "\u001b[1;31mValueError\u001b[0m: x and y must have same first dimension, but have shapes (5,) and (1,)"
     ]
    },
    {
     "data": {
      "image/png": "[encoded data removed]",
      "text/plain": [
       "<Figure size 432x288 with 1 Axes>"
      ]
     },
     "metadata": {
      "needs_background": "light"
     },
     "output_type": "display_data"
    }
   ],
   "source": [
    "fig, ax = plt.subplots()\n",
    "ax.plot(range(1,6), train_losses, label='train loss')\n",
    "ax.plot(range(1,6), test_losses, label='test loss')\n",
    "ax.set_xlabel('Epoch')\n",
    "ax.set_ylabel('Loss')\n",
    "ax.set_xticks(range(1,6))\n",
    "ax.legend();\n",
    "plt.savefig('plots/loss.pdf')"
   ]
  },
  {
   "cell_type": "markdown",
   "metadata": {},
   "source": [
    "# Test"
   ]
  },
  {
   "cell_type": "code",
   "execution_count": 11,
   "metadata": {},
   "outputs": [],
   "source": [
    "scenarios = ['talk', 'gym', 'rotation', 'resting'] # just hardcode the scenarios according to the folder, this only works since shuffling is off\n",
    "def gt_vs_est(data1, data2, plot_path=None):\n",
    "    data1 = np.asarray(data1)\n",
    "    data2 = np.asarray(data2)\n",
    "    fig, ax = plt.subplots()\n",
    "    scenario_arr = np.array(scenarios)\n",
    "    for scenario in set(scenarios):\n",
    "        mask = scenario_arr == scenario\n",
    "        ax.scatter(data1[mask],data2[mask], label=scenario)\n",
    "    ax.plot([np.min(data1),np.max(data1)],[np.min(data1),np.max(data1)],'r',alpha=0.2)\n",
    "    ax.set_title('true labels vs estimated')\n",
    "    ax.set_ylabel('estimated HR')\n",
    "    ax.set_xlabel('true HR')\n",
    "    ax.legend()\n",
    "\n",
    "    fig.savefig(plot_path + f'/true_vs_est.pdf')\n",
    "\n",
    "def bland_altman_plot(data1, data2, plot_path=None):\n",
    "    data1 = np.array(data1)\n",
    "    data2 = np.array(data2)\n",
    "    mean = np.mean([data1, data2], axis=0)\n",
    "    diff = data1 - data2  # Difference between data1 and data2\n",
    "    md = np.mean(diff)  # Mean of the difference\n",
    "    sd = np.std(diff, axis=0)  # Standard deviation of the difference\n",
    "\n",
    "    fig, ax = plt.subplots()\n",
    "    scenario_arr = np.array(scenarios)\n",
    "    for scenario in set(scenarios):\n",
    "        mask = scenario_arr == scenario\n",
    "        ax.scatter(mean[mask], diff[mask], label=scenario)\n",
    "    ax.axhline(md, color='gray', linestyle='--')\n",
    "    ax.axhline(md + 1.96 * sd, color='gray', linestyle='--')\n",
    "    ax.axhline(md - 1.96 * sd, color='gray', linestyle='--')\n",
    "    ax.set_xlabel(r'$\\frac{1}{2}(HR_{gt}-HR_{est})$')\n",
    "    ax.set_ylabel(r'$HR_{gt}-HR_{est}$')\n",
    "    ax.legend()\n",
    "\n",
    "    fig.savefig(plot_path + f'/bland-altman_new.pdf')"
   ]
  },
  {
   "cell_type": "code",
   "execution_count": 12,
   "metadata": {},
   "outputs": [
    {
     "name": "stdout",
     "output_type": "stream",
     "text": [
      "Finished Training, Validating 4 video files for 1 Epochs\n"
     ]
    },
    {
     "name": "stderr",
     "output_type": "stream",
     "text": [
      "100%|██████████| 4/4 [00:25<00:00,  6.31s/it]\n"
     ]
    },
    {
     "name": "stdout",
     "output_type": "stream",
     "text": [
      "\n",
      "Finished Test [Epoch: 1/1] \n",
      "Test Loss: 17.261 | HR_MAE : 15.900 | HR_RMSE : 23.558 |\n",
      "done\n"
     ]
    },
    {
     "data": {
      "image/png": "[encoded data removed]",
      "text/plain": [
       "<Figure size 432x288 with 1 Axes>"
      ]
     },
     "metadata": {
      "needs_background": "light"
     },
     "output_type": "display_data"
    },
    {
     "data": {
      "image/png": "[encoded data removed]",
      "text/plain": [
       "<Figure size 432x288 with 1 Axes>"
      ]
     },
     "metadata": {
      "needs_background": "light"
     },
     "output_type": "display_data"
    }
   ],
   "source": [
    "# this code is basically just to get the plots\n",
    "EPOCHS_TEST = 1\n",
    "print(f\"Finished Training, Validating {len(video_files_test)} video files for {EPOCHS_TEST} Epochs\")\n",
    "\n",
    "eval_loss_per_epoch = []\n",
    "test_losses = []\n",
    "for epoch in range(EPOCHS_TEST):\n",
    "    # validation\n",
    "    target_hr_list, predicted_hr_list, test_loss = train_val.eval_fn(model, test_loader, loss_fn, batch_size=batch_size)\n",
    "    test_losses.append(test_loss)\n",
    "    metrics = compute_criteria(target_hr_list, predicted_hr_list)\n",
    "\n",
    "    print(f\"\\nFinished Test [Epoch: {epoch + 1}/{EPOCHS_TEST}]\",\n",
    "            \"\\nTest Loss: {:.3f} |\".format(test_loss),\n",
    "            \"HR_MAE : {:.3f} |\".format(metrics[\"MAE\"]),\n",
    "            \"HR_RMSE : {:.3f} |\".format(metrics[\"RMSE\"]),)\n",
    "\n",
    "# Plots on the local storage.\n",
    "gt_vs_est(target_hr_list, predicted_hr_list, plot_path='plots')\n",
    "bland_altman_plot(target_hr_list, predicted_hr_list, plot_path='plots')\n",
    "writer.close()\n",
    "print(\"done\")"
   ]
  },
  {
   "cell_type": "code",
   "execution_count": 13,
   "metadata": {},
   "outputs": [],
   "source": [
    "preds = []\n",
    "targets = []\n",
    "model.eval()\n",
    "for data in test_loader:\n",
    "    st_maps, target = data[0]['st_maps'], data[0]['target']\n",
    "    targets.append(target)\n",
    "    with torch.no_grad():\n",
    "        preds.append(model(st_maps, target)[0])"
   ]
  },
  {
   "cell_type": "code",
   "execution_count": 27,
   "metadata": {},
   "outputs": [
    {
     "data": {
      "image/png": "[encoded data removed]",
      "text/plain": [
       "<Figure size 432x288 with 1 Axes>"
      ]
     },
     "metadata": {
      "needs_background": "light"
     },
     "output_type": "display_data"
    }
   ],
   "source": [
    "import matplotlib.pyplot as plt\n",
    "fig, ax = plt.subplots()\n",
    "i = 3\n",
    "x = range(len(targets[i]))\n",
    "ax.plot(preds[i].flatten(), label='predicted')\n",
    "ax.plot(targets[i], label='gt')\n",
    "ax.set_title(f\"prediction for scenario '{scenarios[i]}'\")\n",
    "ax.set_xlabel('time (s)')\n",
    "ax.set_ylabel('Heart rate (BPM)')\n",
    "ax.legend();\n",
    "plt.savefig('plots/predictedHR.pdf')"
   ]
  },
  {
   "cell_type": "code",
   "execution_count": 15,
   "metadata": {},
   "outputs": [],
   "source": [
    "from pyVHR.utils.errors import getErrors, displayErrors\n",
    "import pandas as pd"
   ]
  },
  {
   "cell_type": "code",
   "execution_count": 18,
   "metadata": {},
   "outputs": [],
   "source": [
    "errors = []\n",
    "for i, signal in enumerate(zip(preds,targets,scenarios)):\n",
    "    RMSE, MAE, MAX, PCC, CCC = getErrors(np.array(signal[0]), np.array(signal[1]),None,None)\n",
    "    errors.append((np.mean(RMSE), np.mean(MAE), np.mean(MAX), np.mean(PCC), np.mean(CCC), signal[2]))"
   ]
  },
  {
   "cell_type": "code",
   "execution_count": 19,
   "metadata": {},
   "outputs": [
    {
     "data": {
      "text/html": [
       "<div>\n",
       "<style scoped>\n",
       "    .dataframe tbody tr th:only-of-type {\n",
       "        vertical-align: middle;\n",
       "    }\n",
       "\n",
       "    .dataframe tbody tr th {\n",
       "        vertical-align: top;\n",
       "    }\n",
       "\n",
       "    .dataframe thead th {\n",
       "        text-align: right;\n",
       "    }\n",
       "</style>\n",
       "<table border=\"1\" class=\"dataframe\">\n",
       "  <thead>\n",
       "    <tr style=\"text-align: right;\">\n",
       "      <th></th>\n",
       "      <th>RMSE</th>\n",
       "      <th>MAE</th>\n",
       "      <th>MAX</th>\n",
       "      <th>PCC</th>\n",
       "      <th>CCC</th>\n",
       "      <th>Scenario</th>\n",
       "    </tr>\n",
       "  </thead>\n",
       "  <tbody>\n",
       "    <tr>\n",
       "      <th>0</th>\n",
       "      <td>16.492040</td>\n",
       "      <td>15.827775</td>\n",
       "      <td>27.832565</td>\n",
       "      <td>0.208304</td>\n",
       "      <td>0.012343</td>\n",
       "      <td>talk</td>\n",
       "    </tr>\n",
       "    <tr>\n",
       "      <th>1</th>\n",
       "      <td>46.261892</td>\n",
       "      <td>44.293118</td>\n",
       "      <td>67.848770</td>\n",
       "      <td>-0.043323</td>\n",
       "      <td>-0.001353</td>\n",
       "      <td>gym</td>\n",
       "    </tr>\n",
       "    <tr>\n",
       "      <th>2</th>\n",
       "      <td>4.631305</td>\n",
       "      <td>3.724538</td>\n",
       "      <td>11.043205</td>\n",
       "      <td>0.123093</td>\n",
       "      <td>0.118374</td>\n",
       "      <td>rotation</td>\n",
       "    </tr>\n",
       "    <tr>\n",
       "      <th>3</th>\n",
       "      <td>3.435558</td>\n",
       "      <td>2.826013</td>\n",
       "      <td>7.507317</td>\n",
       "      <td>0.246618</td>\n",
       "      <td>0.120662</td>\n",
       "      <td>resting</td>\n",
       "    </tr>\n",
       "  </tbody>\n",
       "</table>\n",
       "</div>"
      ],
      "text/plain": [
       "        RMSE        MAE        MAX       PCC       CCC  Scenario\n",
       "0  16.492040  15.827775  27.832565  0.208304  0.012343      talk\n",
       "1  46.261892  44.293118  67.848770 -0.043323 -0.001353       gym\n",
       "2   4.631305   3.724538  11.043205  0.123093  0.118374  rotation\n",
       "3   3.435558   2.826013   7.507317  0.246618  0.120662   resting"
      ]
     },
     "execution_count": 19,
     "metadata": {},
     "output_type": "execute_result"
    }
   ],
   "source": [
    "df = pd.DataFrame(errors, columns=['RMSE', 'MAE', 'MAX', 'PCC', 'CCC', 'Scenario'])\n",
    "df"
   ]
  },
  {
   "cell_type": "code",
   "execution_count": 20,
   "metadata": {},
   "outputs": [
    {
     "data": {
      "text/html": [
       "<style type=\"text/css\">\n",
       "#T_e7840_row0_col0, #T_e7840_row0_col1, #T_e7840_row0_col2 {\n",
       "  width: 10em;\n",
       "  background: linear-gradient(90deg, #d65f5f 100.0%, transparent 100.0%);\n",
       "}\n",
       "#T_e7840_row0_col3 {\n",
       "  width: 10em;\n",
       "  background: linear-gradient(90deg, #d65f5f 14.9%, transparent 14.9%);\n",
       "}\n",
       "#T_e7840_row0_col4 {\n",
       "  width: 10em;\n",
       "  background: linear-gradient(90deg, #d65f5f 1.1%, transparent 1.1%);\n",
       "}\n",
       "#T_e7840_row1_col0 {\n",
       "  width: 10em;\n",
       "  background: linear-gradient(90deg, #d65f5f 7.4%, transparent 7.4%);\n",
       "}\n",
       "#T_e7840_row1_col1 {\n",
       "  width: 10em;\n",
       "  background: linear-gradient(90deg, #d65f5f 6.4%, transparent 6.4%);\n",
       "}\n",
       "#T_e7840_row1_col2 {\n",
       "  width: 10em;\n",
       "  background: linear-gradient(90deg, #d65f5f 11.1%, transparent 11.1%);\n",
       "}\n",
       "#T_e7840_row1_col3 {\n",
       "  width: 10em;\n",
       "  background: linear-gradient(90deg, transparent 14.9%, #d65f5f 14.9%, #d65f5f 100.0%, transparent 100.0%);\n",
       "}\n",
       "#T_e7840_row1_col4 {\n",
       "  width: 10em;\n",
       "  background: linear-gradient(90deg, transparent 1.1%, #d65f5f 1.1%, #d65f5f 100.0%, transparent 100.0%);\n",
       "}\n",
       "#T_e7840_row2_col0 {\n",
       "  width: 10em;\n",
       "  background: linear-gradient(90deg, #d65f5f 10.0%, transparent 10.0%);\n",
       "}\n",
       "#T_e7840_row2_col1 {\n",
       "  width: 10em;\n",
       "  background: linear-gradient(90deg, #d65f5f 8.4%, transparent 8.4%);\n",
       "}\n",
       "#T_e7840_row2_col2 {\n",
       "  width: 10em;\n",
       "  background: linear-gradient(90deg, #d65f5f 16.3%, transparent 16.3%);\n",
       "}\n",
       "#T_e7840_row2_col3 {\n",
       "  width: 10em;\n",
       "  background: linear-gradient(90deg, transparent 14.9%, #d65f5f 14.9%, #d65f5f 57.4%, transparent 57.4%);\n",
       "}\n",
       "#T_e7840_row2_col4 {\n",
       "  width: 10em;\n",
       "  background: linear-gradient(90deg, transparent 1.1%, #d65f5f 1.1%, #d65f5f 98.1%, transparent 98.1%);\n",
       "}\n",
       "#T_e7840_row3_col0 {\n",
       "  width: 10em;\n",
       "  background: linear-gradient(90deg, #d65f5f 35.6%, transparent 35.6%);\n",
       "}\n",
       "#T_e7840_row3_col1 {\n",
       "  width: 10em;\n",
       "  background: linear-gradient(90deg, #d65f5f 35.7%, transparent 35.7%);\n",
       "}\n",
       "#T_e7840_row3_col2 {\n",
       "  width: 10em;\n",
       "  background: linear-gradient(90deg, #d65f5f 41.0%, transparent 41.0%);\n",
       "}\n",
       "#T_e7840_row3_col3 {\n",
       "  width: 10em;\n",
       "  background: linear-gradient(90deg, transparent 14.9%, #d65f5f 14.9%, #d65f5f 86.8%, transparent 86.8%);\n",
       "}\n",
       "#T_e7840_row3_col4 {\n",
       "  width: 10em;\n",
       "  background: linear-gradient(90deg, transparent 1.1%, #d65f5f 1.1%, #d65f5f 11.2%, transparent 11.2%);\n",
       "}\n",
       "</style>\n",
       "<table id=\"T_e7840\">\n",
       "  <thead>\n",
       "    <tr>\n",
       "      <th class=\"blank level0\" >&nbsp;</th>\n",
       "      <th id=\"T_e7840_level0_col0\" class=\"col_heading level0 col0\" >RMSE</th>\n",
       "      <th id=\"T_e7840_level0_col1\" class=\"col_heading level0 col1\" >MAE</th>\n",
       "      <th id=\"T_e7840_level0_col2\" class=\"col_heading level0 col2\" >MAX</th>\n",
       "      <th id=\"T_e7840_level0_col3\" class=\"col_heading level0 col3\" >PCC</th>\n",
       "      <th id=\"T_e7840_level0_col4\" class=\"col_heading level0 col4\" >CCC</th>\n",
       "    </tr>\n",
       "    <tr>\n",
       "      <th class=\"index_name level0\" >Scenario</th>\n",
       "      <th class=\"blank col0\" >&nbsp;</th>\n",
       "      <th class=\"blank col1\" >&nbsp;</th>\n",
       "      <th class=\"blank col2\" >&nbsp;</th>\n",
       "      <th class=\"blank col3\" >&nbsp;</th>\n",
       "      <th class=\"blank col4\" >&nbsp;</th>\n",
       "    </tr>\n",
       "  </thead>\n",
       "  <tbody>\n",
       "    <tr>\n",
       "      <th id=\"T_e7840_level0_row0\" class=\"row_heading level0 row0\" >gym</th>\n",
       "      <td id=\"T_e7840_row0_col0\" class=\"data row0 col0\" >46.261892</td>\n",
       "      <td id=\"T_e7840_row0_col1\" class=\"data row0 col1\" >44.293118</td>\n",
       "      <td id=\"T_e7840_row0_col2\" class=\"data row0 col2\" >67.848770</td>\n",
       "      <td id=\"T_e7840_row0_col3\" class=\"data row0 col3\" >-0.043323</td>\n",
       "      <td id=\"T_e7840_row0_col4\" class=\"data row0 col4\" >-0.001353</td>\n",
       "    </tr>\n",
       "    <tr>\n",
       "      <th id=\"T_e7840_level0_row1\" class=\"row_heading level0 row1\" >resting</th>\n",
       "      <td id=\"T_e7840_row1_col0\" class=\"data row1 col0\" >3.435558</td>\n",
       "      <td id=\"T_e7840_row1_col1\" class=\"data row1 col1\" >2.826013</td>\n",
       "      <td id=\"T_e7840_row1_col2\" class=\"data row1 col2\" >7.507317</td>\n",
       "      <td id=\"T_e7840_row1_col3\" class=\"data row1 col3\" >0.246618</td>\n",
       "      <td id=\"T_e7840_row1_col4\" class=\"data row1 col4\" >0.120662</td>\n",
       "    </tr>\n",
       "    <tr>\n",
       "      <th id=\"T_e7840_level0_row2\" class=\"row_heading level0 row2\" >rotation</th>\n",
       "      <td id=\"T_e7840_row2_col0\" class=\"data row2 col0\" >4.631305</td>\n",
       "      <td id=\"T_e7840_row2_col1\" class=\"data row2 col1\" >3.724538</td>\n",
       "      <td id=\"T_e7840_row2_col2\" class=\"data row2 col2\" >11.043205</td>\n",
       "      <td id=\"T_e7840_row2_col3\" class=\"data row2 col3\" >0.123093</td>\n",
       "      <td id=\"T_e7840_row2_col4\" class=\"data row2 col4\" >0.118374</td>\n",
       "    </tr>\n",
       "    <tr>\n",
       "      <th id=\"T_e7840_level0_row3\" class=\"row_heading level0 row3\" >talk</th>\n",
       "      <td id=\"T_e7840_row3_col0\" class=\"data row3 col0\" >16.492040</td>\n",
       "      <td id=\"T_e7840_row3_col1\" class=\"data row3 col1\" >15.827775</td>\n",
       "      <td id=\"T_e7840_row3_col2\" class=\"data row3 col2\" >27.832565</td>\n",
       "      <td id=\"T_e7840_row3_col3\" class=\"data row3 col3\" >0.208304</td>\n",
       "      <td id=\"T_e7840_row3_col4\" class=\"data row3 col4\" >0.012343</td>\n",
       "    </tr>\n",
       "  </tbody>\n",
       "</table>\n"
      ],
      "text/plain": [
       "<pandas.io.formats.style.Styler at 0x1e0e0be2eb0>"
      ]
     },
     "execution_count": 20,
     "metadata": {},
     "output_type": "execute_result"
    }
   ],
   "source": [
    "dfg = df.groupby(['Scenario']).mean()\n",
    "dfg.style.bar()"
   ]
  },
  {
   "cell_type": "code",
   "execution_count": 21,
   "metadata": {},
   "outputs": [
    {
     "name": "stdout",
     "output_type": "stream",
     "text": [
      "\\begin{table}\n",
      "\\centering\n",
      "\\caption{Mean score for videos across scenarios}\n",
      "\\label{tab:HR_est_scores}\n",
      "\\begin{tabular}{lrrr}\n",
      "\\toprule\n",
      " & RMSE & MAE & PCC \\\\\n",
      "Scenario &  &  &  \\\\\n",
      "\\midrule\n",
      "gym & 46.26 & 44.29 & -0.0433 \\\\\n",
      "resting & 3.44 & 2.83 & 0.2466 \\\\\n",
      "rotation & 4.63 & 3.72 & 0.1231 \\\\\n",
      "talk & 16.49 & 15.83 & 0.2083 \\\\\n",
      "\\bottomrule\n",
      "\\end{tabular}\n",
      "\\end{table}\n",
      "\n"
     ]
    }
   ],
   "source": [
    "dfg_latex = pd.DataFrame(dfg,columns=['RMSE','MAE','PCC'])\n",
    "tab = dfg_latex.style.format({'RMSE': '{:.2f}', 'MAE': '{:.2f}', 'PCC': '{:.4f}'}).to_latex(caption='Mean score for videos across scenarios',position_float=\"centering\", label='tab:HR_est_scores',hrules=True)\n",
    "print(tab)"
   ]
  },
  {
   "cell_type": "code",
   "execution_count": null,
   "metadata": {},
   "outputs": [],
   "source": []
  }
 ],
 "metadata": {
  "interpreter": {
   "hash": "c4f92193806e2908606a5f23edd55a5282f2f433b73b1c504507f9256ed9f0b4"
  },
  "kernelspec": {
   "display_name": "Python 3.8.5 ('base')",
   "language": "python",
   "name": "python3"
  },
  "language_info": {
   "codemirror_mode": {
    "name": "ipython",
    "version": 3
   },
   "file_extension": ".py",
   "mimetype": "text/x-python",
   "name": "python",
   "nbconvert_exporter": "python",
   "pygments_lexer": "ipython3",
   "version": "3.8.5"
  },
  "orig_nbformat": 4
 },
 "nbformat": 4,
 "nbformat_minor": 2
}
